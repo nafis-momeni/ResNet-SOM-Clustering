{
  "cells": [
    {
      "cell_type": "code",
      "execution_count": null,
      "metadata": {
        "id": "WRwQtbLdF8D7"
      },
      "outputs": [],
      "source": [
        "import numpy as np\n",
        "import matplotlib.pyplot as plt\n",
        "import seaborn as sb\n",
        "\n",
        "import torch\n",
        "import torch.nn as nn\n",
        "from torchvision import datasets\n",
        "import torchvision.transforms as transforms\n",
        "from torchvision.models import resnet34\n",
        "from torch.utils.data import DataLoader\n",
        "\n",
        "from sklearn.metrics import confusion_matrix, f1_score\n",
        "import math\n",
        "from tqdm import tqdm\n",
        "\n",
        "\n",
        "from numpy.ma.core import ceil\n",
        "from scipy.spatial import distance #distance calculation\n",
        "from sklearn.preprocessing import MinMaxScaler #normalisation\n",
        "from sklearn.model_selection import train_test_split\n",
        "from sklearn.metrics import accuracy_score #scoring\n",
        "from sklearn.metrics import confusion_matrix\n",
        "import matplotlib.pyplot as plt\n",
        "from matplotlib import animation, colors"
      ]
    },
    {
      "cell_type": "code",
      "execution_count": null,
      "metadata": {
        "id": "9WDRxxUHGI7y"
      },
      "outputs": [],
      "source": [
        "# convert data to a normalized torch.FloatTensor\n",
        "# transform = transforms.Compose([    transforms.ToTensor(), transforms.Normalize(\n",
        "#         mean=[0.4914, 0.4822, 0.4465],\n",
        "#         std=[0.2023, 0.1994, 0.2010])\n",
        "# ])\n",
        "\n",
        "transform = transforms.Compose([\n",
        "    transforms.Resize((64, 64)), # Resize to 224x224 (height x width)\n",
        "    transforms.ToTensor(),\n",
        "    transforms.Normalize(mean=[0.485, 0.456, 0.406],\n",
        "                          std=[0.229, 0.224, 0.225])\n",
        "])"
      ]
    },
    {
      "cell_type": "code",
      "execution_count": null,
      "metadata": {
        "colab": {
          "base_uri": "https://localhost:8080/"
        },
        "id": "Ngl-JefMGMY9",
        "outputId": "8f9f74c8-355a-4a3d-d1a5-76b3bbf6958e"
      },
      "outputs": [
        {
          "name": "stdout",
          "output_type": "stream",
          "text": [
            "Files already downloaded and verified\n",
            "Files already downloaded and verified\n"
          ]
        }
      ],
      "source": [
        "# loading the train data\n",
        "batch_size = 1000\n",
        "#drop_last=True\n",
        "train_data = datasets.CIFAR10('data', train=True,\n",
        "                              download=True, transform=transform)\n",
        "train_dataloader = DataLoader(train_data, batch_size=batch_size,shuffle=True )\n",
        "\n",
        "#loading the test data\n",
        "test_data = datasets.CIFAR10('data', train=False,\n",
        "                             download=True, transform=transform)\n",
        "test_dataloader = DataLoader(test_data,batch_size=batch_size, shuffle=True)\n",
        "# You should define x_train and y_train"
      ]
    },
    {
      "cell_type": "code",
      "execution_count": null,
      "metadata": {
        "colab": {
          "base_uri": "https://localhost:8080/"
        },
        "id": "XSXXFhhyfBbn",
        "outputId": "79bfc82f-1511-4f83-8599-8b1424a545e1"
      },
      "outputs": [
        {
          "name": "stderr",
          "output_type": "stream",
          "text": [
            "/usr/local/lib/python3.10/dist-packages/torchvision/models/_utils.py:208: UserWarning: The parameter 'pretrained' is deprecated since 0.13 and may be removed in the future, please use 'weights' instead.\n",
            "  warnings.warn(\n",
            "/usr/local/lib/python3.10/dist-packages/torchvision/models/_utils.py:223: UserWarning: Arguments other than a weight enum or `None` for 'weights' are deprecated since 0.13 and may be removed in the future. The current behavior is equivalent to passing `weights=ResNet34_Weights.IMAGENET1K_V1`. You can also use `weights=ResNet34_Weights.DEFAULT` to get the most up-to-date weights.\n",
            "  warnings.warn(msg)\n"
          ]
        }
      ],
      "source": [
        "feature_extractor = resnet34(pretrained=True)\n",
        "num_features = feature_extractor.fc.in_features\n",
        "\n",
        "for param in feature_extractor.parameters():\n",
        "    param.requires_grad = False\n",
        "\n",
        "feature_extractor.fc = nn.Identity()\n",
        "# feature_extractor.to(device)"
      ]
    },
    {
      "cell_type": "code",
      "execution_count": null,
      "metadata": {
        "id": "mdu41BiZlU0Q"
      },
      "outputs": [],
      "source": [
        "\n",
        "# Helper functions\n",
        "\n",
        "# Data Normalisation\n",
        "def minmax_scaler(data):\n",
        "  scaler = MinMaxScaler()\n",
        "  scaled = scaler.fit_transform(data)\n",
        "  return scaled\n",
        "\n",
        "# Euclidean distance\n",
        "def e_distance(x,y):\n",
        "  return distance.euclidean(x,y)\n",
        "\n",
        "# Manhattan distance\n",
        "def m_distance(x,y):\n",
        "  return distance.cityblock(x,y)\n",
        "\n",
        "# Best Matching Unit search\n",
        "def winning_neuron(data, som, num_rows, num_cols):\n",
        "  winner = [0,0]\n",
        "  shortest_distance = 10e7 # initialise with max distance\n",
        "  for row in range(num_rows):\n",
        "    for col in range(num_cols):\n",
        "      distance = e_distance(som[row][col], data)\n",
        "      if distance < shortest_distance: \n",
        "        shortest_distance = distance\n",
        "        winner = [row,col]\n",
        "  return winner\n",
        "\n",
        "# Learning rate and neighbourhood range calculation\n",
        "def decay(step, max_steps,max_learning_rate,max_m_dsitance):\n",
        "  coefficient = 1.0 - (np.float64(step)/max_steps)\n",
        "  learning_rate = coefficient*max_learning_rate\n",
        "  # neighbourhood_range = ceil(coefficient * max_m_dsitance)\n",
        "  return learning_rate\n",
        "\n",
        "def dist_func(x):\n",
        "  #guassian\n",
        "  sig = 2 #?\n",
        "  return np.exp(-np.power(x , 2.) / (2 * np.power(sig, 2.)))\n",
        "  "
      ]
    },
    {
      "cell_type": "code",
      "execution_count": null,
      "metadata": {
        "colab": {
          "background_save": true
        },
        "id": "pdfh2ZPiumXz",
        "outputId": "522a337d-2f5c-4473-b5ce-c4deeef504c6"
      },
      "outputs": [
        {
          "name": "stdout",
          "output_type": "stream",
          "text": [
            "50\n",
            "50\n"
          ]
        }
      ],
      "source": [
        "y_data_list = []\n",
        "data_list = []\n",
        "for x_train, y_train in train_dataloader:\n",
        "\n",
        "  features = feature_extractor(x_train)\n",
        "  features = minmax_scaler(features)\n",
        "  features = torch.from_numpy(features)\n",
        "  data_list.append(features)\n",
        "\n",
        "  y_data_list.append(y_train)\n",
        "\n",
        "print(len(y_data_list))\n",
        "print(len(data_list))"
      ]
    },
    {
      "cell_type": "code",
      "execution_count": null,
      "metadata": {
        "colab": {
          "background_save": true
        },
        "id": "XVAnhC07vb72",
        "outputId": "bac7f725-59e9-472c-83e1-f82479592d25"
      },
      "outputs": [
        {
          "name": "stdout",
          "output_type": "stream",
          "text": [
            "10\n",
            "10\n"
          ]
        }
      ],
      "source": [
        "y_test_list = []\n",
        "data_test_list = []\n",
        "for x_test, y_test in test_dataloader:\n",
        "\n",
        "  features = feature_extractor(x_test)\n",
        "  features = minmax_scaler(features)\n",
        "  features = torch.from_numpy(features)\n",
        "  data_test_list.append(features)\n",
        "\n",
        "  y_test_list.append(y_test)\n",
        "\n",
        "print(len(y_test_list))\n",
        "print(len(data_test_list))"
      ]
    },
    {
      "cell_type": "code",
      "execution_count": null,
      "metadata": {
        "colab": {
          "background_save": true
        },
        "id": "vVQfTlQmlTm4"
      },
      "outputs": [],
      "source": [
        "# hyperparameters\n",
        "num_rows = 10\n",
        "num_cols = 10\n",
        "max_m_dsitance = 3\n",
        "max_learning_rate = 0.5\n",
        "# max_steps = int(7.5*10e3)\n",
        "max_steps = 20\n",
        "\n",
        "\n",
        "# num_nurons = 5*np.sqrt(train_x.shape[0])\n",
        "# grid_size = ceil(np.sqrt(num_nurons))\n",
        "# print(grid_size)"
      ]
    },
    {
      "cell_type": "code",
      "execution_count": null,
      "metadata": {
        "colab": {
          "background_save": true
        },
        "id": "S7OtlKV-Lz2w"
      },
      "outputs": [],
      "source": [
        "# train_x_norm = minmax_scaler(train_x) # normalisation\n",
        "\n",
        "# num_dims = train_x_norm.shape[1]\n",
        "\n",
        "\n",
        "# initialising self-organising map\n",
        "num_dims = 512 # numnber of dimensions in the input data\n",
        "\n",
        "np.random.seed(40)\n",
        "som = np.random.random_sample(size=(num_rows, num_cols, num_dims)) # map construction\n",
        "som = torch.from_numpy(som)"
      ]
    },
    {
      "cell_type": "code",
      "execution_count": null,
      "metadata": {
        "colab": {
          "background_save": true
        },
        "id": "sf0V9ER6NvX2",
        "outputId": "235988ad-7a4a-4822-8e66-12c3ba01fd55"
      },
      "outputs": [
        {
          "name": "stderr",
          "output_type": "stream",
          "text": [
            "Epoch 1: 100%|\u001b[34m██████████\u001b[0m| 50/50 [02:11<00:00,  2.63s/it]\n",
            "Epoch 2: 100%|\u001b[34m██████████\u001b[0m| 50/50 [02:04<00:00,  2.49s/it]\n",
            "Epoch 3: 100%|\u001b[34m██████████\u001b[0m| 50/50 [02:04<00:00,  2.50s/it]\n",
            "Epoch 4: 100%|\u001b[34m██████████\u001b[0m| 50/50 [02:03<00:00,  2.48s/it]\n",
            "Epoch 5: 100%|\u001b[34m██████████\u001b[0m| 50/50 [02:04<00:00,  2.49s/it]\n"
          ]
        }
      ],
      "source": [
        "epochs = 5\n",
        "\n",
        "for epoch in range(epochs):\n",
        "    for features in tqdm(data_list, desc=f\"Epoch {epoch+1}\", colour=\"blue\"):\n",
        "            # Forward pass\n",
        "\n",
        "            # features = feature_extractor(x_train)\n",
        "            # features = minmax_scaler(features)\n",
        "            # features = torch.from_numpy(features)\n",
        "\n",
        "\n",
        "\n",
        "            # start training iterations\n",
        "            for i in range(features.shape[0]):\n",
        "              neighbourhood_range = max_m_dsitance\n",
        "              learning_rate = decay(epoch, epochs, max_learning_rate, max_m_dsitance)\n",
        "\n",
        "              # rand_data = np.random.randint(0,high=features.shape[0]) # random index of traing data\n",
        "              winner = winning_neuron(features[i], som, num_rows, num_cols)\n",
        "              for row in range(num_rows):\n",
        "                for col in range(num_cols):\n",
        "                  dist = m_distance([row,col],winner)\n",
        "                  if dist <= neighbourhood_range:\n",
        "                    som[row][col] += learning_rate * dist_func(dist) * (features[i]-som[row][col]) #update neighbour's weight\n",
        "\n",
        "            # print(\"SOM training completed\")"
      ]
    },
    {
      "cell_type": "code",
      "execution_count": null,
      "metadata": {
        "colab": {
          "background_save": true
        },
        "id": "6pYjTtiYl-hu"
      },
      "outputs": [],
      "source": [
        "# collecting labels\n",
        "map = np.empty(shape=(num_rows, num_cols), dtype=object)\n",
        "for row in range(num_rows):\n",
        "  for col in range(num_cols):\n",
        "    map[row][col] = [] # empty list to store the label\n",
        "\n",
        "for i, features in enumerate(data_list):\n",
        "\n",
        "\n",
        "  # features = feature_extractor(x_train)\n",
        "  # features = minmax_scaler(features)\n",
        "  # features = torch.from_numpy(features)\n",
        "  label_data = np.array(y_data_list[i])\n",
        "  \n",
        "  \n",
        "  for t in range(features.shape[0]):\n",
        "    winner = winning_neuron(features[t], som, num_rows, num_cols)\n",
        "    map[winner[0]][winner[1]].append(label_data[t]) # label of winning neuron"
      ]
    },
    {
      "cell_type": "code",
      "execution_count": null,
      "metadata": {
        "colab": {
          "background_save": true
        },
        "id": "2AizVR-UAmmu",
        "outputId": "de9eec62-e6ba-4ccc-c778-85142ee7932a"
      },
      "outputs": [
        {
          "name": "stdout",
          "output_type": "stream",
          "text": [
            "[8 9 4 1 4 8 5 9 8 6 1 0 4 2 2 4 2 2 5 2 9 8 3 9 5 3 4 5 6 1 0 8 6 7 6 2 8\n",
            " 9 7 9 2 8 2 2 0 6 8 1 5 8 1 1 5 5 2 7 2 5 6 8 5 8 3 4 6 4 7 6 9 8 4 1 4 3\n",
            " 2 7 8 5 1 9 3 9 5 4 9 7 3 6 0 5 8 7 6 8 2 4 6 6 7 9 4 1 2 7 3 1 0 0 8 4 8\n",
            " 6 2 5 7 0 9 1 2 4 1 0 8 7 0 0 2 9 9 8 5 0 4 3 3 7 0 8 4 8 4 9 0 9 8 3 3 9\n",
            " 0 4 1 3 5 3 2 3 0 4 9 0 1 0 5 8 1 6 7 3 3 6 2 8 4 3 3 6 9 9 1 0 2 1 5 6 7\n",
            " 9 2 9 9 1 2 4 4 8 6 4 6 7 0 2 4 2 2 9 5 9 5 4 4 2 5 1 6 1 5 6 2 1 1 1 7 0\n",
            " 7 9 1 8 9 9 4 7 4 3 1 9 2 6 0 3 0 5 2 0 1 1 6 7 0 9 1 1 6 0 7 4 3 0 4 7 2\n",
            " 4 2 9 2 2 4 2 2 6 0 4 0 8 3 5 0 1 9 6 1 3 0 9 5 9 7 7 6 4 0 2 2 1 4 9 9 2\n",
            " 1 0 2 8 5 8 1 0 1 3 0 5 2 3 8 4 0 7 8 8 8 6 9 0 6 0 5 8 5 8 5 4 2 6 8 5 0\n",
            " 8 1 6 6 0 3 1 3 9 3 4 1 3 6 0 9 2 1 5 5 3 2 5 0 8 9 4 0 2 0 6 9 6 9 2 8 7\n",
            " 8 0 1 9 4 8 6 9 6 4 0 5 0 2 0 5 0 8 0 7 4 1 4 5 2 6 5 9 2 7 0 1 5 3 6 0 2\n",
            " 4 9 1 7 4 6 0 5 9 3 6 7 6 0 4 9 5 1 2 0 2 2 7 6 1 0 1 9 8 7 0 5 1 2 7 0 8\n",
            " 9 1 6 1 1 6 5 3 3 5 5 3 6 4 1 3 9 4 9 3 8 5 1 3 6 8 6 9 3 2 5 0 5 4 9 1 1\n",
            " 5 9 4 1 8 4 3 6 1 6 3 5 8 8 2 0 4 3 7 9 2 1 0 8 9 2 2 7 9 3 4 0 2 0 6 5 7\n",
            " 0 3 8 9 2 1 7 3 2 1 6 3 8 2 2 1 5 8 8 9 3 8 5 2 9 3 6 3 7 4 2 9 1 2 0 1 1\n",
            " 2 8 4 3 3 8 5 2 8 1 0 5 7 8 1 2 9 4 4 7 5 3 6 7 0 8 9 3 1 7 1 8 3 0 7 8 8\n",
            " 3 0 4 4 3 1 5 5 5 4 5 3 7 3 6 9 4 8 4 3 1 6 4 5 6 8 3 0 2 6 3 5 4 7 0 4 8\n",
            " 4 2 1 7 5 1 6 8 9 8 2 8 0 2 2 8 0 5 7 7 3 3 6 0 9 7 4 3 9 6 1 1 2 6 9 3 0\n",
            " 5 9 7 4 9 3 4 7 9 0 0 1 9 6 8 3 4 7 1 7 6 9 3 7 8 3 0 8 3 7 4 7 3 4 9 5 7\n",
            " 4 2 0 5 2 5 4 4 0 4 5 7 0 0 5 4 9 4 3 1 2 5 0 2 8 7 8 4 2 6 1 8 4 4 7 1 1\n",
            " 0 8 4 5 2 2 3 2 8 9 9 6 2 6 6 3 3 4 5 1 3 9 1 5 3 0 9 0 7 6 8 3 5 9 4 0 9\n",
            " 6 0 1 2 7 7 4 6 0 6 7 3 8 6 1 6 0 6 2 7 5 3 2 3 3 5 5 7 2 3 4 3 2 5 4 5 8\n",
            " 5 6 2 8 7 5 3 4 7 7 4 8 4 5 2 7 7 6 7 2 4 0 0 3 7 0 8 1 8 4 8 9 0 8 0 6 7\n",
            " 5 1 0 8 4 3 6 1 3 9 8 1 5 8 0 6 2 4 7 8 8 0 8 1 9 8 4 9 5 1 7 7 3 4 7 7 7\n",
            " 5 8 7 6 5 1 3 3 9 2 3 0 2 8 4 5 8 4 4 0 5 4 4 6 5 1 0 6 2 8 9 3 6 8 4 6 0\n",
            " 1 7 2 7 6 2 5 2 3 4 6 4 1 3 3 1 2 0 0 9 5 4 0 3 0 5 2 5 2 1 8 8 6 7 7 0 3\n",
            " 4 2 5 9 9 6 1 7 8 5 4 7 3 2 0 2 8 3 5 5 1 4 6 0 8 6 3 9 5 2 2 0 0 8 8 3 7\n",
            " 7]\n",
            "[2, 6, 6, 6, 6, 3, 0, 9, 6, 6, 8, 6, 3, 6, 4, 6, 6, 3, 6, 3, 6, 6, 9, 3, 6, 6, 4, 6, 6, 3, 7, 7, 7, 6, 6, 3, 9, 6, 6, 6, 2, 5, 3, 6, 9, 6, 6, 2, 6, 6, 0, 4, 6, 6, 7, 3, 8, 2, 4, 3, 4, 6, 6, 6, 6, 8, 6, 2, 4, 6, 6, 4, 6, 5, 6, 2, 6, 9, 9, 6, 2, 4, 6, 6, 3, 6, 5, 6, 4, 6, 6, 1, 6, 4, 6, 6, 4, 6, 6, 3, 6, 6, 6, 3, 2, 4, 3, 2, 6, 8, 6, 6, 6, 6, 6, 6, 6, 3, 6, 6, 1, 6, 6, 2, 1, 6, 6, 4, 0, 5, 6, 9, 7, 6, 6, 6, 6, 8, 3, 6, 4, 6, 6, 6, 6, 4, 4, 6, 6, 4, 6, 1, 2, 3, 6, 6, 6, 6, 7, 7, 6, 8, 6, 6, 4, 7, 4, 2, 6, 4, 6, 5, 3, 3, 3, 8, 4, 7, 5, 2, 6, 4, 4, 6, 6, 4, 8, 7, 6, 3, 7, 6, 0, 5, 6, 4, 6, 6, 6, 9, 4, 6, 6, 0, 6, 7, 2, 6, 6, 6, 6, 2, 6, 6, 4, 2, 6, 6, 6, 6, 6, 6, 6, 7, 4, 3, 1, 6, 6, 3, 6, 7, 6, 6, 9, 6, 4, 6, 6, 6, 6, 6, 2, 5, 6, 8, 4, 6, 7, 0, 9, 2, 1, 6, 0, 3, 6, 1, 9, 6, 6, 7, 6, 4, 6, 6, 0, 2, 6, 6, 6, 2, 3, 6, 6, 4, 6, 3, 1, 6, 4, 4, 4, 2, 2, 6, 6, 3, 6, 6, 6, 6, 6, 6, 2, 2, 6, 6, 0, 3, 6, 6, 4, 6, 6, 6, 4, 6, 7, 2, 7, 6, 6, 4, 2, 6, 6, 6, 6, 6, 4, 6, 0, 2, 6, 4, 2, 7, 4, 7, 5, 1, 5, 6, 6, 2, 0, 4, 4, 5, 6, 6, 6, 3, 2, 6, 2, 2, 8, 6, 6, 3, 6, 0, 6, 4, 9, 0, 6, 2, 7, 8, 7, 6, 6, 6, 8, 2, 9, 6, 6, 2, 7, 7, 2, 2, 2, 4, 6, 4, 0, 4, 6, 6, 4, 6, 6, 6, 6, 6, 6, 9, 6, 9, 6, 3, 2, 3, 6, 6, 3, 8, 6, 6, 4, 3, 4, 6, 4, 4, 3, 6, 4, 2, 6, 6, 7, 4, 6, 8, 6, 6, 3, 3, 2, 3, 8, 3, 6, 8, 6, 7, 6, 6, 2, 9, 6, 4, 3, 4, 8, 6, 6, 6, 4, 6, 6, 6, 6, 6, 6, 6, 4, 6, 4, 2, 7, 4, 6, 7, 1, 6, 6, 6, 6, 6, 1, 4, 3, 7, 6, 3, 6, 4, 3, 7, 6, 7, 6, 6, 5, 6, 6, 8, 3, 6, 1, 6, 6, 6, 6, 3, 2, 6, 6, 6, 6, 6, 6, 6, 6, 6, 4, 6, 6, 6, 7, 7, 6, 2, 2, 6, 4, 6, 6, 6, 6, 1, 6, 6, 6, 6, 3, 6, 6, 6, 5, 6, 6, 0, 6, 2, 9, 2, 6, 6, 6, 6, 6, 6, 1, 6, 6, 6, 6, 4, 3, 6, 6, 1, 6, 6, 3, 6, 4, 6, 6, 6, 6, 4, 6, 6, 5, 6, 3, 0, 6, 6, 2, 6, 6, 6, 6, 1, 6, 6, 7, 2, 6, 6, 6, 6, 2, 3, 6, 6, 4, 2, 7, 7, 7, 6, 3, 2, 4, 6, 5, 0, 6, 6, 8, 2, 6, 4, 2, 1, 6, 6, 6, 3, 1, 6, 6, 9, 6, 9, 6, 6, 4, 6, 8, 3, 2, 6, 6, 6, 6, 6, 6, 3, 2, 4, 4, 2, 6, 6, 6, 2, 6, 4, 6, 4, 6, 6, 6, 3, 7, 7, 6, 3, 6, 3, 4, 0, 4, 3, 6, 2, 6, 2, 6, 6, 6, 6, 6, 6, 6, 4, 6, 6, 4, 6, 6, 6, 6, 6, 6, 6, 4, 4, 8, 9, 5, 7, 1, 2, 6, 6, 7, 6, 6, 5, 3, 6, 6, 6, 4, 6, 4, 6, 6, 2, 6, 4, 6, 6, 1, 6, 6, 4, 6, 4, 8, 4, 6, 4, 6, 6, 6, 4, 6, 6, 6, 7, 2, 4, 1, 6, 6, 3, 4, 7, 2, 6, 4, 2, 6, 6, 6, 2, 6, 4, 6, 2, 9, 6, 7, 3, 7, 6, 6, 6, 6, 6, 3, 6, 6, 3, 6, 6, 6, 3, 3, 6, 6, 6, 4, 6, 6, 6, 2, 4, 6, 6, 0, 6, 4, 7, 6, 5, 7, 6, 6, 5, 6, 4, 6, 4, 2, 3, 3, 4, 2, 3, 6, 5, 8, 2, 3, 7, 6, 3, 6, 6, 6, 6, 7, 6, 6, 9, 3, 0, 6, 2, 4, 6, 6, 8, 6, 3, 6, 4, 3, 4, 6, 4, 4, 7, 4, 6, 6, 6, 4, 4, 6, 6, 2, 6, 2, 7, 6, 3, 6, 6, 6, 3, 6, 5, 5, 6, 8, 6, 3, 2, 3, 3, 6, 3, 7, 4, 7, 2, 4, 6, 8, 6, 6, 2, 3, 6, 5, 6, 6, 6, 6, 7, 7, 4, 6, 6, 0, 4, 7, 6, 6, 6, 6, 2, 6, 3, 7, 6, 6, 6, 6, 4, 6, 6, 4, 6, 6, 0, 6, 6, 2, 2, 1, 9, 6, 4, 4, 4, 8, 6, 2, 5, 6, 6, 6, 6, 3, 2, 7, 6, 6, 6, 6, 1, 6, 3, 4, 4, 6, 6, 6, 4, 0, 8, 7, 8, 3, 6, 3, 6, 2, 4, 6, 6, 7, 6, 2, 2, 2, 4, 6, 6, 6, 8, 3, 3, 6, 9, 7, 4, 0, 6, 6, 0, 6, 6, 1, 6, 6, 7, 6, 6, 6, 6, 6, 6, 6, 2, 4, 6, 1, 6, 6, 6, 6, 6, 8, 5, 6, 2, 6, 7, 2, 3, 6, 8, 6, 4, 6, 5, 6, 4, 2, 3, 6, 4, 6, 6, 5, 6, 9, 6, 6, 6, 6, 6, 6, 4, 4, 4, 4, 6, 6, 6, 6, 6, 1, 2, 6, 6, 7, 4, 5, 6, 6, 6, 6, 0, 4, 6, 6, 6, 7, 3, 6, 2, 6, 6, 6, 2, 2, 9, 0, 4, 6, 4, 6, 5, 3, 6, 6, 4, 6, 4, 6, 6, 3, 6, 0, 3, 4, 6, 4, 3, 1, 6, 4, 6, 6, 6, 9, 6, 3, 7, 7, 6, 3, 6, 6, 2, 6, 8, 6, 6, 4, 7, 4, 6, 6, 6, 4, 3, 6, 5, 3, 6, 4, 6, 6, 7, 6, 6, 6, 4, 3, 3, 4, 0, 4, 1, 6, 6, 3, 5, 6, 6, 2, 2, 6, 6, 6, 1, 6, 0, 6, 4, 6, 9, 7, 3, 4, 6, 2, 6, 3, 7, 2, 6, 6, 6, 4, 4, 7, 6, 3, 3, 6, 6, 6, 6, 6, 6, 2, 2, 6, 6, 6, 5, 6, 0, 6, 6, 7, 6, 7, 3, 8, 6, 0, 6, 6, 0, 8, 6, 4, 6, 6, 5, 3, 6, 6, 6, 6, 6, 7, 6, 7, 5, 6, 6, 6, 4, 8, 6, 6, 6, 6, 6, 2, 2, 3, 6, 6, 6, 8, 9, 4, 6, 9, 4, 3, 4, 4, 2, 2, 7, 6, 6, 5, 7, 7, 6, 0, 6, 6, 3, 6, 6, 6, 4, 6, 4, 6, 4, 6, 6, 6, 3, 6, 6, 6, 6, 9, 0, 6, 8, 6, 3, 6, 6, 6, 6, 6, 3, 3, 4, 6, 4, 2, 6, 6, 6, 6, 6, 6, 4, 3, 5, 7, 6, 6, 6, 6, 6, 6, 3, 3, 5, 6, 6, 4, 2, 3, 3, 3, 3, 6, 6, 6, 6, 4, 4, 6, 4, 4, 4, 1, 6, 1, 6, 3, 6, 6, 6, 1, 0, 6, 6, 7, 6, 6, 3, 6, 6, 6, 4, 6, 4, 7, 6, 4, 6, 6, 4, 4, 4, 6, 6, 1, 9, 3, 6, 4, 6, 6, 6, 6, 2, 2, 6, 6, 6, 6, 6, 6, 4, 0, 9, 4, 6, 6, 4, 3, 6, 6, 6, 4, 4, 3, 6, 6, 6, 5, 6, 6, 6, 9, 3, 3, 6, 6, 5, 4, 3, 6, 6, 6, 6, 6, 6, 6, 6, 6, 4, 5, 6, 3, 6, 6, 3, 4, 6, 2, 6, 0, 2, 6, 6, 5, 3, 1, 6, 4, 6, 4, 6, 6, 2, 9, 3, 2, 6, 6, 6, 6, 7, 5, 5, 1, 2, 4, 6, 6, 4, 4, 6, 4, 4, 6, 4, 6, 6, 4, 2, 5, 6, 4, 6, 6, 6, 6, 3, 7, 6, 6, 4, 6, 6, 8, 4, 4, 6, 6, 6, 4, 3, 6, 0, 7, 6, 3, 1, 2, 6, 6, 6, 5, 2, 6, 4, 2, 3, 7, 6, 6, 6, 4, 2, 6, 6, 6, 1, 6, 6, 3, 1, 7, 6, 6, 6, 6, 4, 6, 2, 3, 6, 6, 6, 4, 8, 7, 6, 9, 6, 6, 6, 6, 4, 2, 5, 6, 5, 6, 6, 8, 3, 6, 7, 4, 3, 6, 3, 6, 4, 1, 6, 6, 6, 6, 7, 2, 6, 6, 8, 3, 0, 7, 6, 6, 6, 4, 1, 9, 6, 6, 6, 6, 6, 6, 0, 6, 6, 7, 6, 6, 6, 4, 8, 0, 6, 4, 4, 6, 6, 6, 6, 9, 6, 4, 6, 1, 7, 2, 3, 6, 2, 6, 6, 2, 6, 6, 6, 1, 9, 0, 1, 3, 3, 4, 5, 2, 6, 6, 4, 6, 4, 2, 6, 6, 6, 4, 6, 1, 6, 6, 2, 6, 8, 4, 2, 2, 6, 2, 6, 2, 6, 6, 6, 6, 6, 6, 6, 6, 9, 6, 5, 6, 6, 3, 6, 1, 6, 6, 6, 6, 6, 6, 6, 8, 6, 6, 6, 0, 6, 4, 6, 9, 5, 7, 2, 3, 6, 3, 6, 2, 7, 0, 8, 6, 3, 6, 6, 6, 2, 4, 6, 6, 4, 6, 5, 2, 6, 4, 6, 2, 4, 6, 0, 9, 6, 6, 4, 6, 3, 7, 6, 6, 6]\n"
          ]
        }
      ],
      "source": [
        "print(np.array(y_data_list[0]))\n",
        "print(map[0][0])"
      ]
    },
    {
      "cell_type": "code",
      "execution_count": null,
      "metadata": {
        "colab": {
          "background_save": true
        },
        "id": "LXtsL7yrmBmY"
      },
      "outputs": [],
      "source": [
        "# construct label map\n",
        "label_map = np.zeros(shape=(num_rows, num_cols),dtype=np.int64)\n",
        "for row in range(num_rows):\n",
        "  for col in range(num_cols):\n",
        "    label_list = map[row][col]\n",
        "    if len(label_list)==0:\n",
        "      label = 11\n",
        "    else:\n",
        "      label = max(label_list, key=label_list.count)\n",
        "    label_map[row][col] = label\n"
      ]
    },
    {
      "cell_type": "code",
      "execution_count": null,
      "metadata": {
        "colab": {
          "background_save": true
        },
        "id": "MCGVJP0ymEfu",
        "outputId": "412325bf-e9c2-4c17-f01e-89821b08b6dd"
      },
      "outputs": [
        {
          "data": {
            "image/png": "[encoded data removed]",
            "text/plain": [
              "<Figure size 640x480 with 2 Axes>"
            ]
          },
          "metadata": {},
          "output_type": "display_data"
        }
      ],
      "source": [
        "# title = ('Iteration ' + str(max_steps))\n",
        "# cmap = colors.ListedColormap(['tab:green', 'tab:red', 'tab:orange'])\n",
        "plt.imshow(label_map, cmap='Blues')\n",
        "plt.colorbar()\n",
        "# plt.title(title)\n",
        "plt.show()"
      ]
    },
    {
      "cell_type": "code",
      "execution_count": null,
      "metadata": {
        "id": "uzxNB0pI4fKQ"
      },
      "outputs": [],
      "source": [
        "\n",
        "# test data\n",
        "\n",
        "# using the trained som, search the winning node of corresponding to the test data\n",
        "# get the label of the winning node\n",
        "# x_test, y_test = test_dataloader\n",
        "sum_acc = 0\n",
        "n = 0\n",
        "for i, features in enumerate(data_test_list):\n",
        "\n",
        "\n",
        "  # features = feature_extractor(x_test)\n",
        "  # features = minmax_scaler(features)\n",
        "  # features = torch.from_numpy(features)\n",
        "  winner_labels = []\n",
        "\n",
        "  for t in range(features.shape[0]):\n",
        "    winner = winning_neuron(features[t], som, num_rows, num_cols)\n",
        "    row = winner[0]\n",
        "    col = winner[1]\n",
        "    predicted = label_map[row][col]\n",
        "    winner_labels.append(predicted)\n",
        "  acc = accuracy_score(np.array(y_test_list[i]), np.array(winner_labels))\n",
        "  sum_acc += acc\n",
        "  n += 1\n",
        "  print(\"Accuracy: \",acc)\n",
        "\n",
        "print(\"Total Accuracy: \", sum_acc /n)"
      ]
    },
    {
      "cell_type": "code",
      "execution_count": null,
      "metadata": {
        "id": "rFr4RQ10l5qm"
      },
      "outputs": [],
      "source": [
        "\n",
        "# #mian function\n",
        "\n",
        "# # start training iterations\n",
        "# for step in range(max_steps):\n",
        "#   if (step+1) % 1000 == 0:\n",
        "#     print(\"Iteration: \", step+1) # print out the current iteration for every 1k\n",
        "#   neighbourhood_range = max_m_dsitance\n",
        "#   learning_rate = decay(step, max_steps,max_learning_rate,max_m_dsitance)\n",
        "\n",
        "#   t = np.random.randint(0,high=train_x.shape[0]) # random index of traing data\n",
        "#   winner = winning_neuron(train_x, t, som, num_rows, num_cols)\n",
        "#   for row in range(num_rows):\n",
        "#     for col in range(num_cols):\n",
        "#       if m_distance([row,col],winner)<= neighbourhood_range:\n",
        "#         som[row][col] += learning_rate*(train_x[t]-som[row][col]) #update neighbour's weight\n",
        "\n",
        "# print(\"SOM training completed\")"
      ]
    }
  ],
  "metadata": {
    "colab": {
      "provenance": []
    },
    "kernelspec": {
      "display_name": "Python 3",
      "name": "python3"
    },
    "language_info": {
      "name": "python"
    }
  },
  "nbformat": 4,
  "nbformat_minor": 0
}