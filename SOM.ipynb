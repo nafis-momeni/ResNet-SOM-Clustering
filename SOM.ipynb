{
  "cells": [
    {
      "cell_type": "markdown",
      "metadata": {
        "id": "view-in-github",
        "colab_type": "text"
      },
      "source": [
        "<a href=\"https://colab.research.google.com/github/silver380/ResNet-SOM-Clustering/blob/main/SOM.ipynb\" target=\"_parent\"><img src=\"https://colab.research.google.com/assets/colab-badge.svg\" alt=\"Open In Colab\"/></a>"
      ]
    },
    {
      "cell_type": "code",
      "execution_count": null,
      "metadata": {
        "id": "WRwQtbLdF8D7"
      },
      "outputs": [],
      "source": [
        "import numpy as np\n",
        "import matplotlib.pyplot as plt\n",
        "import seaborn as sb\n",
        "\n",
        "import torch\n",
        "import torch.nn as nn\n",
        "from torchvision import datasets\n",
        "import torchvision.transforms as transforms\n",
        "from torchvision.models import resnet34\n",
        "from torch.utils.data import DataLoader\n",
        "\n",
        "from sklearn.metrics import confusion_matrix, f1_score\n",
        "import math\n",
        "from tqdm import tqdm\n",
        "\n",
        "\n",
        "from numpy.ma.core import ceil\n",
        "from scipy.spatial import distance #distance calculation\n",
        "from sklearn.preprocessing import MinMaxScaler #normalisation\n",
        "from sklearn.model_selection import train_test_split\n",
        "from sklearn.metrics import accuracy_score #scoring\n",
        "from sklearn.metrics import confusion_matrix\n",
        "import matplotlib.pyplot as plt\n",
        "from matplotlib import animation, colors"
      ]
    },
    {
      "cell_type": "code",
      "execution_count": null,
      "metadata": {
        "id": "9WDRxxUHGI7y"
      },
      "outputs": [],
      "source": [
        "transform = transforms.Compose([\n",
        "    transforms.Resize((128, 128)), # Resize to 224x224 (height x width)\n",
        "    transforms.ToTensor(),\n",
        "    transforms.Normalize(mean=[0.485, 0.456, 0.406],\n",
        "                          std=[0.229, 0.224, 0.225])\n",
        "])"
      ]
    },
    {
      "cell_type": "code",
      "execution_count": null,
      "metadata": {
        "colab": {
          "background_save": true,
          "base_uri": "https://localhost:8080/"
        },
        "id": "Ngl-JefMGMY9",
        "outputId": "610df752-eb36-40ac-e30e-df726f399086"
      },
      "outputs": [
        {
          "name": "stdout",
          "output_type": "stream",
          "text": [
            "Files already downloaded and verified\n",
            "Files already downloaded and verified\n"
          ]
        }
      ],
      "source": [
        "# loading the train data\n",
        "batch_size = 100\n",
        "#drop_last=True\n",
        "train_data = datasets.CIFAR10('data', train=True,\n",
        "                              download=True, transform=transform)\n",
        "train_dataloader = DataLoader(train_data, batch_size=batch_size,shuffle=True )\n",
        "\n",
        "#loading the test data\n",
        "test_data = datasets.CIFAR10('data', train=False,\n",
        "                             download=True, transform=transform)\n",
        "test_dataloader = DataLoader(test_data,batch_size=batch_size, shuffle=True)\n",
        "# You should define x_train and y_train"
      ]
    },
    {
      "cell_type": "code",
      "execution_count": null,
      "metadata": {
        "colab": {
          "background_save": true,
          "base_uri": "https://localhost:8080/"
        },
        "id": "TX82a7rjcKll",
        "outputId": "2865e475-62df-4c61-b5a8-21cfadf3817d"
      },
      "outputs": [
        {
          "name": "stdout",
          "output_type": "stream",
          "text": [
            "cuda\n"
          ]
        }
      ],
      "source": [
        "device = torch.device(\"cuda\" if torch.cuda.is_available() else \"cpu\")\n",
        "print(device)"
      ]
    },
    {
      "cell_type": "code",
      "execution_count": null,
      "metadata": {
        "colab": {
          "background_save": true,
          "base_uri": "https://localhost:8080/"
        },
        "id": "XSXXFhhyfBbn",
        "outputId": "1101b959-a771-47c3-cf90-ae3306a41c8f"
      },
      "outputs": [
        {
          "name": "stderr",
          "output_type": "stream",
          "text": [
            "/usr/local/lib/python3.10/dist-packages/torchvision/models/_utils.py:208: UserWarning: The parameter 'pretrained' is deprecated since 0.13 and may be removed in the future, please use 'weights' instead.\n",
            "  warnings.warn(\n",
            "/usr/local/lib/python3.10/dist-packages/torchvision/models/_utils.py:223: UserWarning: Arguments other than a weight enum or `None` for 'weights' are deprecated since 0.13 and may be removed in the future. The current behavior is equivalent to passing `weights=ResNet34_Weights.IMAGENET1K_V1`. You can also use `weights=ResNet34_Weights.DEFAULT` to get the most up-to-date weights.\n",
            "  warnings.warn(msg)\n"
          ]
        },
        {
          "data": {
            "text/plain": [
              "ResNet(\n",
              "  (conv1): Conv2d(3, 64, kernel_size=(7, 7), stride=(2, 2), padding=(3, 3), bias=False)\n",
              "  (bn1): BatchNorm2d(64, eps=1e-05, momentum=0.1, affine=True, track_running_stats=True)\n",
              "  (relu): ReLU(inplace=True)\n",
              "  (maxpool): MaxPool2d(kernel_size=3, stride=2, padding=1, dilation=1, ceil_mode=False)\n",
              "  (layer1): Sequential(\n",
              "    (0): BasicBlock(\n",
              "      (conv1): Conv2d(64, 64, kernel_size=(3, 3), stride=(1, 1), padding=(1, 1), bias=False)\n",
              "      (bn1): BatchNorm2d(64, eps=1e-05, momentum=0.1, affine=True, track_running_stats=True)\n",
              "      (relu): ReLU(inplace=True)\n",
              "      (conv2): Conv2d(64, 64, kernel_size=(3, 3), stride=(1, 1), padding=(1, 1), bias=False)\n",
              "      (bn2): BatchNorm2d(64, eps=1e-05, momentum=0.1, affine=True, track_running_stats=True)\n",
              "    )\n",
              "    (1): BasicBlock(\n",
              "      (conv1): Conv2d(64, 64, kernel_size=(3, 3), stride=(1, 1), padding=(1, 1), bias=False)\n",
              "      (bn1): BatchNorm2d(64, eps=1e-05, momentum=0.1, affine=True, track_running_stats=True)\n",
              "      (relu): ReLU(inplace=True)\n",
              "      (conv2): Conv2d(64, 64, kernel_size=(3, 3), stride=(1, 1), padding=(1, 1), bias=False)\n",
              "      (bn2): BatchNorm2d(64, eps=1e-05, momentum=0.1, affine=True, track_running_stats=True)\n",
              "    )\n",
              "    (2): BasicBlock(\n",
              "      (conv1): Conv2d(64, 64, kernel_size=(3, 3), stride=(1, 1), padding=(1, 1), bias=False)\n",
              "      (bn1): BatchNorm2d(64, eps=1e-05, momentum=0.1, affine=True, track_running_stats=True)\n",
              "      (relu): ReLU(inplace=True)\n",
              "      (conv2): Conv2d(64, 64, kernel_size=(3, 3), stride=(1, 1), padding=(1, 1), bias=False)\n",
              "      (bn2): BatchNorm2d(64, eps=1e-05, momentum=0.1, affine=True, track_running_stats=True)\n",
              "    )\n",
              "  )\n",
              "  (layer2): Sequential(\n",
              "    (0): BasicBlock(\n",
              "      (conv1): Conv2d(64, 128, kernel_size=(3, 3), stride=(2, 2), padding=(1, 1), bias=False)\n",
              "      (bn1): BatchNorm2d(128, eps=1e-05, momentum=0.1, affine=True, track_running_stats=True)\n",
              "      (relu): ReLU(inplace=True)\n",
              "      (conv2): Conv2d(128, 128, kernel_size=(3, 3), stride=(1, 1), padding=(1, 1), bias=False)\n",
              "      (bn2): BatchNorm2d(128, eps=1e-05, momentum=0.1, affine=True, track_running_stats=True)\n",
              "      (downsample): Sequential(\n",
              "        (0): Conv2d(64, 128, kernel_size=(1, 1), stride=(2, 2), bias=False)\n",
              "        (1): BatchNorm2d(128, eps=1e-05, momentum=0.1, affine=True, track_running_stats=True)\n",
              "      )\n",
              "    )\n",
              "    (1): BasicBlock(\n",
              "      (conv1): Conv2d(128, 128, kernel_size=(3, 3), stride=(1, 1), padding=(1, 1), bias=False)\n",
              "      (bn1): BatchNorm2d(128, eps=1e-05, momentum=0.1, affine=True, track_running_stats=True)\n",
              "      (relu): ReLU(inplace=True)\n",
              "      (conv2): Conv2d(128, 128, kernel_size=(3, 3), stride=(1, 1), padding=(1, 1), bias=False)\n",
              "      (bn2): BatchNorm2d(128, eps=1e-05, momentum=0.1, affine=True, track_running_stats=True)\n",
              "    )\n",
              "    (2): BasicBlock(\n",
              "      (conv1): Conv2d(128, 128, kernel_size=(3, 3), stride=(1, 1), padding=(1, 1), bias=False)\n",
              "      (bn1): BatchNorm2d(128, eps=1e-05, momentum=0.1, affine=True, track_running_stats=True)\n",
              "      (relu): ReLU(inplace=True)\n",
              "      (conv2): Conv2d(128, 128, kernel_size=(3, 3), stride=(1, 1), padding=(1, 1), bias=False)\n",
              "      (bn2): BatchNorm2d(128, eps=1e-05, momentum=0.1, affine=True, track_running_stats=True)\n",
              "    )\n",
              "    (3): BasicBlock(\n",
              "      (conv1): Conv2d(128, 128, kernel_size=(3, 3), stride=(1, 1), padding=(1, 1), bias=False)\n",
              "      (bn1): BatchNorm2d(128, eps=1e-05, momentum=0.1, affine=True, track_running_stats=True)\n",
              "      (relu): ReLU(inplace=True)\n",
              "      (conv2): Conv2d(128, 128, kernel_size=(3, 3), stride=(1, 1), padding=(1, 1), bias=False)\n",
              "      (bn2): BatchNorm2d(128, eps=1e-05, momentum=0.1, affine=True, track_running_stats=True)\n",
              "    )\n",
              "  )\n",
              "  (layer3): Sequential(\n",
              "    (0): BasicBlock(\n",
              "      (conv1): Conv2d(128, 256, kernel_size=(3, 3), stride=(2, 2), padding=(1, 1), bias=False)\n",
              "      (bn1): BatchNorm2d(256, eps=1e-05, momentum=0.1, affine=True, track_running_stats=True)\n",
              "      (relu): ReLU(inplace=True)\n",
              "      (conv2): Conv2d(256, 256, kernel_size=(3, 3), stride=(1, 1), padding=(1, 1), bias=False)\n",
              "      (bn2): BatchNorm2d(256, eps=1e-05, momentum=0.1, affine=True, track_running_stats=True)\n",
              "      (downsample): Sequential(\n",
              "        (0): Conv2d(128, 256, kernel_size=(1, 1), stride=(2, 2), bias=False)\n",
              "        (1): BatchNorm2d(256, eps=1e-05, momentum=0.1, affine=True, track_running_stats=True)\n",
              "      )\n",
              "    )\n",
              "    (1): BasicBlock(\n",
              "      (conv1): Conv2d(256, 256, kernel_size=(3, 3), stride=(1, 1), padding=(1, 1), bias=False)\n",
              "      (bn1): BatchNorm2d(256, eps=1e-05, momentum=0.1, affine=True, track_running_stats=True)\n",
              "      (relu): ReLU(inplace=True)\n",
              "      (conv2): Conv2d(256, 256, kernel_size=(3, 3), stride=(1, 1), padding=(1, 1), bias=False)\n",
              "      (bn2): BatchNorm2d(256, eps=1e-05, momentum=0.1, affine=True, track_running_stats=True)\n",
              "    )\n",
              "    (2): BasicBlock(\n",
              "      (conv1): Conv2d(256, 256, kernel_size=(3, 3), stride=(1, 1), padding=(1, 1), bias=False)\n",
              "      (bn1): BatchNorm2d(256, eps=1e-05, momentum=0.1, affine=True, track_running_stats=True)\n",
              "      (relu): ReLU(inplace=True)\n",
              "      (conv2): Conv2d(256, 256, kernel_size=(3, 3), stride=(1, 1), padding=(1, 1), bias=False)\n",
              "      (bn2): BatchNorm2d(256, eps=1e-05, momentum=0.1, affine=True, track_running_stats=True)\n",
              "    )\n",
              "    (3): BasicBlock(\n",
              "      (conv1): Conv2d(256, 256, kernel_size=(3, 3), stride=(1, 1), padding=(1, 1), bias=False)\n",
              "      (bn1): BatchNorm2d(256, eps=1e-05, momentum=0.1, affine=True, track_running_stats=True)\n",
              "      (relu): ReLU(inplace=True)\n",
              "      (conv2): Conv2d(256, 256, kernel_size=(3, 3), stride=(1, 1), padding=(1, 1), bias=False)\n",
              "      (bn2): BatchNorm2d(256, eps=1e-05, momentum=0.1, affine=True, track_running_stats=True)\n",
              "    )\n",
              "    (4): BasicBlock(\n",
              "      (conv1): Conv2d(256, 256, kernel_size=(3, 3), stride=(1, 1), padding=(1, 1), bias=False)\n",
              "      (bn1): BatchNorm2d(256, eps=1e-05, momentum=0.1, affine=True, track_running_stats=True)\n",
              "      (relu): ReLU(inplace=True)\n",
              "      (conv2): Conv2d(256, 256, kernel_size=(3, 3), stride=(1, 1), padding=(1, 1), bias=False)\n",
              "      (bn2): BatchNorm2d(256, eps=1e-05, momentum=0.1, affine=True, track_running_stats=True)\n",
              "    )\n",
              "    (5): BasicBlock(\n",
              "      (conv1): Conv2d(256, 256, kernel_size=(3, 3), stride=(1, 1), padding=(1, 1), bias=False)\n",
              "      (bn1): BatchNorm2d(256, eps=1e-05, momentum=0.1, affine=True, track_running_stats=True)\n",
              "      (relu): ReLU(inplace=True)\n",
              "      (conv2): Conv2d(256, 256, kernel_size=(3, 3), stride=(1, 1), padding=(1, 1), bias=False)\n",
              "      (bn2): BatchNorm2d(256, eps=1e-05, momentum=0.1, affine=True, track_running_stats=True)\n",
              "    )\n",
              "  )\n",
              "  (layer4): Sequential(\n",
              "    (0): BasicBlock(\n",
              "      (conv1): Conv2d(256, 512, kernel_size=(3, 3), stride=(2, 2), padding=(1, 1), bias=False)\n",
              "      (bn1): BatchNorm2d(512, eps=1e-05, momentum=0.1, affine=True, track_running_stats=True)\n",
              "      (relu): ReLU(inplace=True)\n",
              "      (conv2): Conv2d(512, 512, kernel_size=(3, 3), stride=(1, 1), padding=(1, 1), bias=False)\n",
              "      (bn2): BatchNorm2d(512, eps=1e-05, momentum=0.1, affine=True, track_running_stats=True)\n",
              "      (downsample): Sequential(\n",
              "        (0): Conv2d(256, 512, kernel_size=(1, 1), stride=(2, 2), bias=False)\n",
              "        (1): BatchNorm2d(512, eps=1e-05, momentum=0.1, affine=True, track_running_stats=True)\n",
              "      )\n",
              "    )\n",
              "    (1): BasicBlock(\n",
              "      (conv1): Conv2d(512, 512, kernel_size=(3, 3), stride=(1, 1), padding=(1, 1), bias=False)\n",
              "      (bn1): BatchNorm2d(512, eps=1e-05, momentum=0.1, affine=True, track_running_stats=True)\n",
              "      (relu): ReLU(inplace=True)\n",
              "      (conv2): Conv2d(512, 512, kernel_size=(3, 3), stride=(1, 1), padding=(1, 1), bias=False)\n",
              "      (bn2): BatchNorm2d(512, eps=1e-05, momentum=0.1, affine=True, track_running_stats=True)\n",
              "    )\n",
              "    (2): BasicBlock(\n",
              "      (conv1): Conv2d(512, 512, kernel_size=(3, 3), stride=(1, 1), padding=(1, 1), bias=False)\n",
              "      (bn1): BatchNorm2d(512, eps=1e-05, momentum=0.1, affine=True, track_running_stats=True)\n",
              "      (relu): ReLU(inplace=True)\n",
              "      (conv2): Conv2d(512, 512, kernel_size=(3, 3), stride=(1, 1), padding=(1, 1), bias=False)\n",
              "      (bn2): BatchNorm2d(512, eps=1e-05, momentum=0.1, affine=True, track_running_stats=True)\n",
              "    )\n",
              "  )\n",
              "  (avgpool): AdaptiveAvgPool2d(output_size=(1, 1))\n",
              "  (fc): Identity()\n",
              ")"
            ]
          },
          "execution_count": 48,
          "metadata": {},
          "output_type": "execute_result"
        }
      ],
      "source": [
        "feature_extractor = resnet34(pretrained=True)\n",
        "num_features = feature_extractor.fc.in_features\n",
        "\n",
        "for param in feature_extractor.parameters():\n",
        "    param.requires_grad = False\n",
        "\n",
        "feature_extractor.fc = nn.Identity()\n",
        "feature_extractor.to(device)"
      ]
    },
    {
      "cell_type": "code",
      "execution_count": null,
      "metadata": {
        "colab": {
          "background_save": true
        },
        "id": "mdu41BiZlU0Q"
      },
      "outputs": [],
      "source": [
        "\n",
        "# Helper functions\n",
        "\n",
        "# Data Normalisation\n",
        "def minmax_scaler(data):\n",
        "  scaler = MinMaxScaler()\n",
        "  scaled = scaler.fit_transform(data)\n",
        "  return scaled\n",
        "\n",
        "# # Euclidean distance\n",
        "# def e_distance(x,y):\n",
        "#   return distance.euclidean(x,y)\n",
        "\n",
        "# Manhattan distance\n",
        "def m_distance(x,y):\n",
        "  return distance.cityblock(x,y)\n",
        "\n",
        "def e_distance(x, y):\n",
        "    return torch.sqrt(torch.sum((x - y) ** 2))\n",
        "\n",
        "# def m_distance(x, y):\n",
        "#     return torch.sum(torch.abs(x - y))\n",
        "\n",
        "# Best Matching Unit search\n",
        "def winning_neuron(data, som, num_rows, num_cols):\n",
        "  winner = [0,0]\n",
        "  # som = som.to(device)\n",
        "  # data = data.to(device)\n",
        "  shortest_distance = 10e7 # initialise with max distance\n",
        "  for row in range(num_rows):\n",
        "    for col in range(num_cols):\n",
        "      if som[row][col] != None:\n",
        "        \n",
        "        distance = e_distance(som[row][col], data)\n",
        "        if distance < shortest_distance: \n",
        "          shortest_distance = distance\n",
        "          winner = [row,col]\n",
        "  return winner\n",
        "\n",
        "# Learning rate and neighbourhood range calculation\n",
        "def decay(step, max_steps,max_learning_rate,max_m_distance):\n",
        "  coefficient = 1.0 - (np.float64(step)/max_steps)\n",
        "  learning_rate = coefficient*max_learning_rate\n",
        "  neighbourhood_range = ceil(coefficient * max_m_distance)\n",
        "  # neighbourhood_range = max_m_distance\n",
        "  return learning_rate, neighbourhood_range\n",
        "\n",
        "def dist_func(x):\n",
        "  #guassian\n",
        "  sig = 2 #?\n",
        "  return np.exp(-np.power(x , 2.) / (2 * np.power(sig, 2.)))\n",
        "  "
      ]
    },
    {
      "cell_type": "code",
      "execution_count": null,
      "metadata": {
        "colab": {
          "base_uri": "https://localhost:8080/"
        },
        "id": "pdfh2ZPiumXz",
        "outputId": "8fa033a5-0dee-4aec-fa5d-37b55f4b3dca"
      },
      "outputs": [
        {
          "name": "stdout",
          "output_type": "stream",
          "text": [
            "500\n",
            "500\n"
          ]
        }
      ],
      "source": [
        "y_data_list = []\n",
        "data_list = []\n",
        "for x_train, y_train in train_dataloader:\n",
        "  x_train, y_train = x_train.to(device), y_train.to(device)\n",
        "\n",
        "  features = feature_extractor(x_train)\n",
        "  features = minmax_scaler(features.cpu().numpy())\n",
        "  features = torch.from_numpy(features)\n",
        "  data_list.append(features)\n",
        "\n",
        "  y_data_list.append(y_train)\n",
        "\n",
        "print(len(y_data_list))\n",
        "print(len(data_list))"
      ]
    },
    {
      "cell_type": "code",
      "execution_count": null,
      "metadata": {
        "colab": {
          "base_uri": "https://localhost:8080/"
        },
        "id": "XVAnhC07vb72",
        "outputId": "6454b2ab-e0a7-4131-b8b8-9204810fecc7"
      },
      "outputs": [
        {
          "name": "stdout",
          "output_type": "stream",
          "text": [
            "100\n",
            "100\n"
          ]
        }
      ],
      "source": [
        "y_test_list = []\n",
        "data_test_list = []\n",
        "for x_test, y_test in test_dataloader:\n",
        "  x_test, y_test = x_test.to(device), y_test.to(device)\n",
        "\n",
        "  features = feature_extractor(x_test)\n",
        "  features = minmax_scaler(features.cpu().numpy())\n",
        "  features = torch.from_numpy(features)\n",
        "  data_test_list.append(features)\n",
        "\n",
        "  y_test_list.append(y_test)\n",
        "\n",
        "print(len(y_test_list))\n",
        "print(len(data_test_list))"
      ]
    },
    {
      "cell_type": "code",
      "execution_count": null,
      "metadata": {
        "id": "vVQfTlQmlTm4"
      },
      "outputs": [],
      "source": [
        "# hyperparameters\n",
        "num_rows = 10\n",
        "num_cols = 10\n",
        "max_m_dsitance = 4\n",
        "max_learning_rate = 0.6\n",
        "# max_steps = int(7.5*10e3)\n",
        "max_steps = 20\n",
        "is_2d = False\n"
      ]
    },
    {
      "cell_type": "code",
      "execution_count": null,
      "metadata": {
        "id": "S7OtlKV-Lz2w"
      },
      "outputs": [],
      "source": [
        "\n",
        "# initialising self-organising map\n",
        "num_dims = data_list[0].shape[1] # numnber of dimensions in the input data\n",
        "if is_2d:\n",
        "  np.random.seed(40)\n",
        "  som = np.random.random_sample(size=(num_rows, num_cols, num_dims)) # map construction\n",
        "  som[3][0] = None\n",
        "  som[3][2] = None\n",
        "  som = torch.from_numpy(som)\n",
        "else:\n",
        "  np.random.seed(40)\n",
        "  som = np.random.random_sample(size=(num_rows, num_cols, num_dims)) # map construction\n",
        "  som = torch.from_numpy(som)"
      ]
    },
    {
      "cell_type": "code",
      "execution_count": null,
      "metadata": {
        "colab": {
          "base_uri": "https://localhost:8080/",
          "height": 411
        },
        "id": "sf0V9ER6NvX2",
        "outputId": "db11055e-2bd6-4346-f288-533184f44333"
      },
      "outputs": [
        {
          "name": "stderr",
          "output_type": "stream",
          "text": [
            "Epoch 1: 100%|\u001b[34m██████████\u001b[0m| 500/500 [02:18<00:00,  3.61it/s]\n",
            "Epoch 2:  54%|\u001b[34m█████▍    \u001b[0m| 272/500 [01:15<01:03,  3.60it/s]\n"
          ]
        },
        {
          "ename": "KeyboardInterrupt",
          "evalue": "ignored",
          "output_type": "error",
          "traceback": [
            "\u001b[0;31m---------------------------------------------------------------------------\u001b[0m",
            "\u001b[0;31mKeyboardInterrupt\u001b[0m                         Traceback (most recent call last)",
            "\u001b[0;32m<ipython-input-43-c71770024b8f>\u001b[0m in \u001b[0;36m<cell line: 3>\u001b[0;34m()\u001b[0m\n\u001b[1;32m     15\u001b[0m             \u001b[0;32mfor\u001b[0m \u001b[0mcol\u001b[0m \u001b[0;32min\u001b[0m \u001b[0mrange\u001b[0m\u001b[0;34m(\u001b[0m\u001b[0mnum_cols\u001b[0m\u001b[0;34m)\u001b[0m\u001b[0;34m:\u001b[0m\u001b[0;34m\u001b[0m\u001b[0;34m\u001b[0m\u001b[0m\n\u001b[1;32m     16\u001b[0m               \u001b[0;32mif\u001b[0m \u001b[0msom\u001b[0m\u001b[0;34m[\u001b[0m\u001b[0mrow\u001b[0m\u001b[0;34m]\u001b[0m\u001b[0;34m[\u001b[0m\u001b[0mcol\u001b[0m\u001b[0;34m]\u001b[0m \u001b[0;34m!=\u001b[0m \u001b[0;32mNone\u001b[0m\u001b[0;34m:\u001b[0m\u001b[0;34m\u001b[0m\u001b[0;34m\u001b[0m\u001b[0m\n\u001b[0;32m---> 17\u001b[0;31m                 \u001b[0mdist\u001b[0m \u001b[0;34m=\u001b[0m \u001b[0mm_distance\u001b[0m\u001b[0;34m(\u001b[0m\u001b[0;34m[\u001b[0m\u001b[0mrow\u001b[0m\u001b[0;34m,\u001b[0m\u001b[0mcol\u001b[0m\u001b[0;34m]\u001b[0m\u001b[0;34m,\u001b[0m\u001b[0mwinner\u001b[0m\u001b[0;34m)\u001b[0m\u001b[0;34m\u001b[0m\u001b[0;34m\u001b[0m\u001b[0m\n\u001b[0m\u001b[1;32m     18\u001b[0m                 \u001b[0;32mif\u001b[0m \u001b[0mdist\u001b[0m \u001b[0;34m<=\u001b[0m \u001b[0mneighbourhood_range\u001b[0m\u001b[0;34m:\u001b[0m\u001b[0;34m\u001b[0m\u001b[0;34m\u001b[0m\u001b[0m\n\u001b[1;32m     19\u001b[0m                   \u001b[0msom\u001b[0m\u001b[0;34m[\u001b[0m\u001b[0mrow\u001b[0m\u001b[0;34m]\u001b[0m\u001b[0;34m[\u001b[0m\u001b[0mcol\u001b[0m\u001b[0;34m]\u001b[0m \u001b[0;34m+=\u001b[0m \u001b[0mlearning_rate\u001b[0m  \u001b[0;34m*\u001b[0m \u001b[0;34m(\u001b[0m\u001b[0mfeatures\u001b[0m\u001b[0;34m[\u001b[0m\u001b[0mi\u001b[0m\u001b[0;34m]\u001b[0m\u001b[0;34m.\u001b[0m\u001b[0mto\u001b[0m\u001b[0;34m(\u001b[0m\u001b[0mdevice\u001b[0m\u001b[0;34m)\u001b[0m\u001b[0;34m-\u001b[0m\u001b[0msom\u001b[0m\u001b[0;34m[\u001b[0m\u001b[0mrow\u001b[0m\u001b[0;34m]\u001b[0m\u001b[0;34m[\u001b[0m\u001b[0mcol\u001b[0m\u001b[0;34m]\u001b[0m\u001b[0;34m.\u001b[0m\u001b[0mto\u001b[0m\u001b[0;34m(\u001b[0m\u001b[0mdevice\u001b[0m\u001b[0;34m)\u001b[0m\u001b[0;34m)\u001b[0m \u001b[0;31m#update neighbour's weight\u001b[0m\u001b[0;34m\u001b[0m\u001b[0;34m\u001b[0m\u001b[0m\n",
            "\u001b[0;32m<ipython-input-35-d8c2db6435fb>\u001b[0m in \u001b[0;36mm_distance\u001b[0;34m(x, y)\u001b[0m\n\u001b[1;32m     12\u001b[0m \u001b[0;34m\u001b[0m\u001b[0m\n\u001b[1;32m     13\u001b[0m \u001b[0;31m# Manhattan distance\u001b[0m\u001b[0;34m\u001b[0m\u001b[0;34m\u001b[0m\u001b[0m\n\u001b[0;32m---> 14\u001b[0;31m \u001b[0;32mdef\u001b[0m \u001b[0mm_distance\u001b[0m\u001b[0;34m(\u001b[0m\u001b[0mx\u001b[0m\u001b[0;34m,\u001b[0m\u001b[0my\u001b[0m\u001b[0;34m)\u001b[0m\u001b[0;34m:\u001b[0m\u001b[0;34m\u001b[0m\u001b[0;34m\u001b[0m\u001b[0m\n\u001b[0m\u001b[1;32m     15\u001b[0m   \u001b[0;32mreturn\u001b[0m \u001b[0mdistance\u001b[0m\u001b[0;34m.\u001b[0m\u001b[0mcityblock\u001b[0m\u001b[0;34m(\u001b[0m\u001b[0mx\u001b[0m\u001b[0;34m,\u001b[0m\u001b[0my\u001b[0m\u001b[0;34m)\u001b[0m\u001b[0;34m\u001b[0m\u001b[0;34m\u001b[0m\u001b[0m\n\u001b[1;32m     16\u001b[0m \u001b[0;34m\u001b[0m\u001b[0m\n",
            "\u001b[0;31mKeyboardInterrupt\u001b[0m: "
          ]
        }
      ],
      "source": [
        "epochs = 20\n",
        "\n",
        "for epoch in range(epochs):\n",
        "    for features in tqdm(data_list, desc=f\"Epoch {epoch+1}\", colour=\"blue\"):\n",
        "        # features.to(device)\n",
        "        # som = som.to(device)\n",
        "\n",
        "        # start training iterations\n",
        "        for i in range(features.shape[0]):\n",
        "          learning_rate, neighbourhood_range = decay(epoch, epochs, max_learning_rate, max_m_dsitance)\n",
        "\n",
        "          # rand_data = np.random.randint(0,high=features.shape[0]) # random index of traing data\n",
        "          winner = winning_neuron(features[i], som, num_rows, num_cols)\n",
        "          for row in range(num_rows):\n",
        "            for col in range(num_cols):\n",
        "              if som[row][col] != None:\n",
        "                dist = m_distance([row,col],winner)\n",
        "                if dist <= neighbourhood_range:\n",
        "                  som[row][col] += learning_rate * dist_func(dist) * (features[i]-som[row][col]) #update neighbour's weight\n",
        "\n",
        "            # print(\"SOM training completed\")"
      ]
    },
    {
      "cell_type": "code",
      "execution_count": null,
      "metadata": {
        "id": "6pYjTtiYl-hu"
      },
      "outputs": [],
      "source": [
        "# collecting labels\n",
        "map = np.empty(shape=(num_rows, num_cols), dtype=object)\n",
        "for row in range(num_rows):\n",
        "  for col in range(num_cols):\n",
        "    if som[row][col] != None:\n",
        "      map[row][col] = [] # empty list to store the label\n",
        "\n",
        "for i, features in enumerate(data_list):\n",
        "\n",
        "\n",
        "  # features = feature_extractor(x_train)\n",
        "  # features = minmax_scaler(features)\n",
        "  # features = torch.from_numpy(features)\n",
        "  label_data = y_data_list[i].cpu().numpy()\n",
        "  \n",
        "  \n",
        "  for t in range(features.shape[0]):\n",
        "    winner = winning_neuron(features[t], som, num_rows, num_cols)\n",
        "    map[winner[0]][winner[1]].append(label_data[t]) # label of winning neuron"
      ]
    },
    {
      "cell_type": "code",
      "execution_count": null,
      "metadata": {
        "id": "LXtsL7yrmBmY"
      },
      "outputs": [],
      "source": [
        "# construct label map\n",
        "label_map = np.zeros(shape=(num_rows, num_cols),dtype=np.int64)\n",
        "for row in range(num_rows):\n",
        "  for col in range(num_cols):\n",
        "    if som[row][col] != None:\n",
        "      label_list = map[row][col]\n",
        "      if len(label_list)==0:\n",
        "        label = 11\n",
        "      else:\n",
        "        label = max(label_list, key=label_list.count)\n",
        "      label_map[row][col] = label\n"
      ]
    },
    {
      "cell_type": "code",
      "execution_count": null,
      "metadata": {
        "colab": {
          "base_uri": "https://localhost:8080/",
          "height": 435
        },
        "id": "MCGVJP0ymEfu",
        "outputId": "c090c705-6d29-4077-fc45-7d99703afa9a"
      },
      "outputs": [
        {
          "data": {
            "image/png": "[encoded data removed]",
            "text/plain": [
              "<Figure size 640x480 with 2 Axes>"
            ]
          },
          "metadata": {},
          "output_type": "display_data"
        }
      ],
      "source": [
        "# title = ('Iteration ' + str(max_steps))\n",
        "# cmap = colors.ListedColormap(['tab:green', 'tab:red', 'tab:orange'])\n",
        "plt.imshow(label_map, cmap='Blues')\n",
        "plt.colorbar()\n",
        "# plt.title(title)\n",
        "plt.show()"
      ]
    },
    {
      "cell_type": "code",
      "execution_count": null,
      "metadata": {
        "colab": {
          "base_uri": "https://localhost:8080/"
        },
        "id": "uzxNB0pI4fKQ",
        "outputId": "342ba25b-87d5-4f47-a8cf-f990e7bd0ebc"
      },
      "outputs": [
        {
          "name": "stdout",
          "output_type": "stream",
          "text": [
            "Accuracy:  0.28\n",
            "Accuracy:  0.33\n",
            "Accuracy:  0.31\n",
            "Accuracy:  0.35\n",
            "Accuracy:  0.35\n",
            "Accuracy:  0.42\n",
            "Accuracy:  0.39\n",
            "Accuracy:  0.45\n",
            "Accuracy:  0.33\n",
            "Accuracy:  0.33\n",
            "Accuracy:  0.34\n",
            "Accuracy:  0.28\n",
            "Accuracy:  0.35\n",
            "Accuracy:  0.31\n",
            "Accuracy:  0.33\n",
            "Accuracy:  0.38\n",
            "Accuracy:  0.38\n",
            "Accuracy:  0.35\n",
            "Accuracy:  0.38\n",
            "Accuracy:  0.28\n",
            "Accuracy:  0.31\n",
            "Accuracy:  0.34\n",
            "Accuracy:  0.32\n",
            "Accuracy:  0.32\n",
            "Accuracy:  0.32\n",
            "Accuracy:  0.38\n",
            "Accuracy:  0.33\n",
            "Accuracy:  0.4\n",
            "Accuracy:  0.35\n",
            "Accuracy:  0.34\n",
            "Accuracy:  0.38\n",
            "Accuracy:  0.33\n",
            "Accuracy:  0.39\n",
            "Accuracy:  0.4\n",
            "Accuracy:  0.38\n",
            "Accuracy:  0.39\n",
            "Accuracy:  0.35\n",
            "Accuracy:  0.24\n",
            "Accuracy:  0.31\n",
            "Accuracy:  0.35\n",
            "Accuracy:  0.4\n",
            "Accuracy:  0.33\n",
            "Accuracy:  0.37\n",
            "Accuracy:  0.36\n",
            "Accuracy:  0.31\n",
            "Accuracy:  0.26\n",
            "Accuracy:  0.24\n",
            "Accuracy:  0.32\n",
            "Accuracy:  0.49\n",
            "Accuracy:  0.47\n",
            "Accuracy:  0.31\n",
            "Accuracy:  0.33\n",
            "Accuracy:  0.26\n",
            "Accuracy:  0.24\n",
            "Accuracy:  0.36\n",
            "Accuracy:  0.39\n",
            "Accuracy:  0.3\n",
            "Accuracy:  0.35\n",
            "Accuracy:  0.44\n",
            "Accuracy:  0.38\n",
            "Accuracy:  0.35\n",
            "Accuracy:  0.29\n",
            "Accuracy:  0.38\n",
            "Accuracy:  0.31\n",
            "Accuracy:  0.33\n",
            "Accuracy:  0.31\n",
            "Accuracy:  0.35\n",
            "Accuracy:  0.35\n",
            "Accuracy:  0.34\n",
            "Accuracy:  0.35\n",
            "Accuracy:  0.31\n",
            "Accuracy:  0.26\n",
            "Accuracy:  0.38\n",
            "Accuracy:  0.4\n",
            "Accuracy:  0.4\n",
            "Accuracy:  0.37\n",
            "Accuracy:  0.36\n",
            "Accuracy:  0.37\n",
            "Accuracy:  0.35\n",
            "Accuracy:  0.28\n",
            "Accuracy:  0.34\n",
            "Accuracy:  0.29\n",
            "Accuracy:  0.35\n",
            "Accuracy:  0.34\n",
            "Accuracy:  0.35\n",
            "Accuracy:  0.31\n",
            "Accuracy:  0.36\n",
            "Accuracy:  0.25\n",
            "Accuracy:  0.24\n",
            "Accuracy:  0.37\n",
            "Accuracy:  0.35\n",
            "Accuracy:  0.37\n",
            "Accuracy:  0.32\n",
            "Accuracy:  0.32\n",
            "Accuracy:  0.34\n",
            "Accuracy:  0.32\n",
            "Accuracy:  0.41\n",
            "Accuracy:  0.35\n",
            "Accuracy:  0.27\n",
            "Accuracy:  0.31\n",
            "Total Accuracy:  0.3416\n"
          ]
        }
      ],
      "source": [
        "\n",
        "# test data\n",
        "\n",
        "# using the trained som, search the winning node of corresponding to the test data\n",
        "# get the label of the winning node\n",
        "# x_test, y_test = test_dataloader\n",
        "sum_acc = 0\n",
        "n = 0\n",
        "for i, features in enumerate(data_test_list):\n",
        "\n",
        "\n",
        "  # features = feature_extractor(x_test)\n",
        "  # features = minmax_scaler(features)\n",
        "  # features = torch.from_numpy(features)\n",
        "  winner_labels = []\n",
        "\n",
        "  for t in range(features.shape[0]):\n",
        "    winner = winning_neuron(features[t], som, num_rows, num_cols)\n",
        "    row = winner[0]\n",
        "    col = winner[1]\n",
        "    predicted = label_map[row][col]\n",
        "    winner_labels.append(predicted)\n",
        "  acc = accuracy_score(y_test_list[i].cpu().numpy(), winner_labels)\n",
        "  sum_acc += acc\n",
        "  n += 1\n",
        "  print(\"Accuracy: \",acc)\n",
        "\n",
        "print(\"Total Accuracy: \", sum_acc /n)"
      ]
    }
  ],
  "metadata": {
    "accelerator": "GPU",
    "colab": {
      "provenance": [],
      "authorship_tag": "ABX9TyNNLjL3V5bcqBqg+pf50Kt6",
      "include_colab_link": true
    },
    "gpuClass": "standard",
    "kernelspec": {
      "display_name": "Python 3",
      "name": "python3"
    },
    "language_info": {
      "name": "python"
    }
  },
  "nbformat": 4,
  "nbformat_minor": 0
}