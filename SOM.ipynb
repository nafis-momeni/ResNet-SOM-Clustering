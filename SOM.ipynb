{
 "cells": [
  {
   "cell_type": "code",
   "execution_count": null,
   "metadata": {
    "id": "WRwQtbLdF8D7",
    "pycharm": {
     "name": "#%%\n"
    }
   },
   "outputs": [],
   "source": [
    "import numpy as np\n",
    "\n",
    "import torch\n",
    "import torch.nn as nn\n",
    "from torchvision import datasets\n",
    "import torchvision.transforms as transforms\n",
    "from torchvision.models import resnet34\n",
    "from torch.utils.data import DataLoader\n",
    "\n",
    "from sklearn.metrics import confusion_matrix, f1_score\n",
    "from tqdm import tqdm\n",
    "\n",
    "from numpy.ma.core import ceil\n",
    "from scipy.spatial import distance #distance calculation\n",
    "from sklearn.preprocessing import MinMaxScaler #normalisation\n",
    "from sklearn.metrics import accuracy_score #scoring\n",
    "import matplotlib.pyplot as plt\n",
    "from matplotlib import animation, colors"
   ]
  },
  {
   "cell_type": "code",
   "execution_count": null,
   "outputs": [],
   "source": [
    "transform = transforms.Compose([\n",
    "    transforms.Resize((128, 128)), # Resize to 224x224 (height x width)\n",
    "    transforms.ToTensor(),\n",
    "    transforms.Normalize(mean=[0.485, 0.456, 0.406],\n",
    "                          std=[0.229, 0.224, 0.225])\n",
    "])"
   ],
   "metadata": {
    "collapsed": false,
    "pycharm": {
     "name": "#%%\n"
    }
   }
  },
  {
   "cell_type": "code",
   "execution_count": null,
   "outputs": [],
   "source": [
    "# loading the train data\n",
    "batch_size = 50\n",
    "#drop_last=True\n",
    "train_data = datasets.CIFAR10('data', train=True,\n",
    "                              download=True, transform=transform)\n",
    "train_dataloader = DataLoader(train_data, batch_size=batch_size,shuffle=True )\n",
    "\n",
    "#loading the test data\n",
    "test_data = datasets.CIFAR10('data', train=False,\n",
    "                             download=True, transform=transform)\n",
    "test_dataloader = DataLoader(test_data,batch_size=batch_size, shuffle=True)\n"
   ],
   "metadata": {
    "collapsed": false,
    "pycharm": {
     "name": "#%%\n"
    }
   }
  },
  {
   "cell_type": "code",
   "execution_count": null,
   "outputs": [],
   "source": [
    "device = torch.device(\"cuda\" if torch.cuda.is_available() else \"cpu\")\n",
    "print(device)"
   ],
   "metadata": {
    "collapsed": false,
    "pycharm": {
     "name": "#%%\n"
    }
   }
  },
  {
   "cell_type": "markdown",
   "source": [
    "## Feature Extractor"
   ],
   "metadata": {
    "collapsed": false,
    "pycharm": {
     "name": "#%% md\n"
    }
   }
  },
  {
   "cell_type": "code",
   "execution_count": null,
   "outputs": [],
   "source": [
    "feature_extractor = resnet34(pretrained=True)\n",
    "num_features = feature_extractor.fc.in_features\n",
    "\n",
    "for param in feature_extractor.parameters():\n",
    "    param.requires_grad = False\n",
    "\n",
    "feature_extractor.fc = nn.Identity()\n",
    "feature_extractor.to(device)"
   ],
   "metadata": {
    "collapsed": false,
    "pycharm": {
     "name": "#%%\n"
    }
   }
  },
  {
   "cell_type": "markdown",
   "source": [
    "## Helper Functions"
   ],
   "metadata": {
    "collapsed": false,
    "pycharm": {
     "name": "#%% md\n"
    }
   }
  },
  {
   "cell_type": "code",
   "execution_count": null,
   "outputs": [],
   "source": [
    "\n",
    "# Data Normalisation\n",
    "def minmax_scaler(data):\n",
    "  scaler = MinMaxScaler()\n",
    "  scaled = scaler.fit_transform(data)\n",
    "  return scaled\n",
    "\n",
    "# Manhattan distance\n",
    "def manhattan_distance(x, y):\n",
    "  return distance.cityblock(x,y)\n",
    "\n",
    "# Euclidean distance\n",
    "def euclidean_distance(x, y):\n",
    "    return torch.sqrt(torch.sum((x - y) ** 2))\n",
    "\n",
    "\n",
    "# Best Matching Unit search\n",
    "def bmu_search(data, som, num_rows, num_cols):\n",
    "  winner = [0,0]\n",
    "  # som = som.to(device)\n",
    "  # data = data.to(device)\n",
    "  shortest_distance = 10e7 \n",
    "  for row in range(num_rows):\n",
    "    for col in range(num_cols):\n",
    "      if som[row][col] != None:\n",
    "        \n",
    "        distance = euclidean_distance(som[row][col], data)\n",
    "        if distance < shortest_distance: \n",
    "          shortest_distance = distance\n",
    "          winner = [row,col]\n",
    "  return winner\n",
    "\n",
    "# Learning rate and neighbourhood range calculation\n",
    "def optimizer(step, max_steps, max_learning_rate, max_m_distance):\n",
    "  coefficient = 1.0 - (np.float64(step)/max_steps)\n",
    "  learning_rate = coefficient*max_learning_rate\n",
    "  neighbourhood_range = ceil(coefficient * max_m_distance)\n",
    "  # neighbourhood_range = max_m_distance\n",
    "  return learning_rate, neighbourhood_range\n",
    "\n",
    "#guassian\n",
    "def distance_func(x):\n",
    "  sig = 2 \n",
    "  return np.exp(-np.power(x , 2.) / (2 * np.power(sig, 2.)))\n",
    "  "
   ],
   "metadata": {
    "collapsed": false,
    "pycharm": {
     "name": "#%%\n"
    }
   }
  },
  {
   "cell_type": "markdown",
   "source": [
    "### Feature Extracting Train Data"
   ],
   "metadata": {
    "collapsed": false,
    "pycharm": {
     "name": "#%% md\n"
    }
   }
  },
  {
   "cell_type": "code",
   "execution_count": null,
   "outputs": [],
   "source": [
    "y_data_list = []\n",
    "data_list = []\n",
    "for x_train, y_train in train_dataloader:\n",
    "  x_train, y_train = x_train.to(device), y_train.to(device)\n",
    "\n",
    "  features = feature_extractor(x_train)\n",
    "  features = minmax_scaler(features.cpu().numpy())\n",
    "  features = torch.from_numpy(features)\n",
    "  data_list.append(features)\n",
    "\n",
    "  y_data_list.append(y_train)\n",
    "\n",
    "print(len(y_data_list))\n",
    "print(len(data_list))"
   ],
   "metadata": {
    "collapsed": false,
    "pycharm": {
     "name": "#%%\n"
    }
   }
  },
  {
   "cell_type": "markdown",
   "source": [
    "### Feature Extracting Test Data"
   ],
   "metadata": {
    "collapsed": false,
    "pycharm": {
     "name": "#%% md\n"
    }
   }
  },
  {
   "cell_type": "code",
   "execution_count": null,
   "outputs": [],
   "source": [
    "y_test_list = []\n",
    "data_test_list = []\n",
    "for x_test, y_test in test_dataloader:\n",
    "  x_test, y_test = x_test.to(device), y_test.to(device)\n",
    "\n",
    "  features = feature_extractor(x_test)\n",
    "  features = minmax_scaler(features.cpu().numpy())\n",
    "  features = torch.from_numpy(features)\n",
    "  data_test_list.append(features)\n",
    "\n",
    "  y_test_list.append(y_test)\n",
    "\n",
    "print(len(y_test_list))\n",
    "print(len(data_test_list))"
   ],
   "metadata": {
    "collapsed": false,
    "pycharm": {
     "name": "#%%\n"
    }
   }
  },
  {
   "cell_type": "markdown",
   "source": [
    "## Hyperparameters"
   ],
   "metadata": {
    "collapsed": false,
    "pycharm": {
     "name": "#%% md\n"
    }
   }
  },
  {
   "cell_type": "code",
   "execution_count": null,
   "outputs": [],
   "source": [
    "num_rows = 10\n",
    "num_cols = 10\n",
    "max_neighborhood_range = 4\n",
    "max_learning_rate = 0.6\n",
    "max_steps = 20\n",
    "is_2d_10_neuron = False\n"
   ],
   "metadata": {
    "collapsed": false,
    "pycharm": {
     "name": "#%%\n"
    }
   }
  },
  {
   "cell_type": "markdown",
   "source": [
    "## Initialising Self Organising Map"
   ],
   "metadata": {
    "collapsed": false,
    "pycharm": {
     "name": "#%% md\n"
    }
   }
  },
  {
   "cell_type": "code",
   "execution_count": null,
   "outputs": [],
   "source": [
    "num_features = data_list[0].shape[1] # numnber of dimensions in the input data\n",
    "\n",
    "if is_2d_10_neuron:\n",
    "  np.random.seed(40)\n",
    "  som = np.random.random_sample(size=(num_rows, num_cols, num_features)) # map construction\n",
    "  som[3][0] = None\n",
    "  som[3][2] = None\n",
    "  som = torch.from_numpy(som)\n",
    "else:\n",
    "  np.random.seed(40)\n",
    "  som = np.random.random_sample(size=(num_rows, num_cols, num_features)) # map construction\n",
    "  som = torch.from_numpy(som)"
   ],
   "metadata": {
    "collapsed": false,
    "pycharm": {
     "name": "#%%\n"
    }
   }
  },
  {
   "cell_type": "code",
   "execution_count": null,
   "outputs": [],
   "source": [
    "epochs = 20\n",
    "\n",
    "for epoch in range(epochs):\n",
    "    for features in tqdm(data_list, desc=f\"Epoch {epoch+1}\", colour=\"blue\"):\n",
    "        # features.to(device)\n",
    "        # som = som.to(device)\n",
    "\n",
    "        # start training iterations\n",
    "        for i in range(features.shape[0]):\n",
    "          learning_rate, neighbourhood_range = optimizer(epoch, epochs, max_learning_rate, max_neighborhood_range)\n",
    "          bmu = bmu_search(features[i], som, num_rows, num_cols)\n",
    "          for row in range(num_rows):\n",
    "            for col in range(num_cols):\n",
    "              if som[row][col] != None:\n",
    "                dist = manhattan_distance([row, col], bmu)\n",
    "                if dist <= neighbourhood_range:\n",
    "                  som[row][col] += learning_rate * distance_func(dist) * (features[i] - som[row][col]) #update neighbour's weight\n"
   ],
   "metadata": {
    "collapsed": false,
    "pycharm": {
     "name": "#%%\n"
    }
   }
  },
  {
   "cell_type": "markdown",
   "source": [
    "## Collecting Labels"
   ],
   "metadata": {
    "collapsed": false,
    "pycharm": {
     "name": "#%% md\n"
    }
   }
  },
  {
   "cell_type": "code",
   "execution_count": null,
   "outputs": [],
   "source": [
    "map = np.empty(shape=(num_rows, num_cols), dtype=object)\n",
    "for row in range(num_rows):\n",
    "  for col in range(num_cols):\n",
    "    if som[row][col] != None:\n",
    "      map[row][col] = [] # empty list to store the label\n",
    "\n",
    "for i, features in enumerate(data_list):\n",
    "\n",
    "  label_data = y_data_list[i].cpu().numpy()\n",
    "\n",
    "  for t in range(features.shape[0]):\n",
    "    bmu = bmu_search(features[t], som, num_rows, num_cols)\n",
    "    map[bmu[0]][bmu[1]].append(label_data[t]) # label of winning neuron"
   ],
   "metadata": {
    "collapsed": false,
    "pycharm": {
     "name": "#%%\n"
    }
   }
  },
  {
   "cell_type": "markdown",
   "source": [
    "## Construct Label Map"
   ],
   "metadata": {
    "collapsed": false,
    "pycharm": {
     "name": "#%% md\n"
    }
   }
  },
  {
   "cell_type": "code",
   "execution_count": null,
   "outputs": [],
   "source": [
    "label_map = np.zeros(shape=(num_rows, num_cols),dtype=np.int64)\n",
    "for row in range(num_rows):\n",
    "  for col in range(num_cols):\n",
    "    if som[row][col] != None:\n",
    "      label_list = map[row][col]\n",
    "      if len(label_list)==0:\n",
    "        label = 11\n",
    "      else:\n",
    "        label = max(label_list, key=label_list.count)\n",
    "      label_map[row][col] = label\n"
   ],
   "metadata": {
    "collapsed": false,
    "pycharm": {
     "name": "#%%\n"
    }
   }
  },
  {
   "cell_type": "markdown",
   "source": [
    "## Feature Map"
   ],
   "metadata": {
    "collapsed": false,
    "pycharm": {
     "name": "#%% md\n"
    }
   }
  },
  {
   "cell_type": "code",
   "execution_count": null,
   "outputs": [],
   "source": [
    "title = ('Feature Map')\n",
    "# cmap = colors.ListedColormap(['tab:green', 'tab:red', 'tab:orange'])\n",
    "plt.imshow(label_map, cmap='Blues')\n",
    "plt.colorbar()\n",
    "plt.title(title)\n",
    "plt.show()"
   ],
   "metadata": {
    "collapsed": false,
    "pycharm": {
     "name": "#%%\n"
    }
   }
  },
  {
   "cell_type": "markdown",
   "source": [
    "## Test Data\n",
    "using the trained som, search the winning node of corresponding to the test data "
   ],
   "metadata": {
    "collapsed": false,
    "pycharm": {
     "name": "#%% md\n"
    }
   }
  },
  {
   "cell_type": "code",
   "execution_count": null,
   "outputs": [],
   "source": [
    "sum_acc = 0\n",
    "n = 0\n",
    "for i, features in enumerate(data_test_list):\n",
    "\n",
    "  winner_labels = []\n",
    "\n",
    "  for t in range(features.shape[0]):\n",
    "    bmu = bmu_search(features[t], som, num_rows, num_cols)\n",
    "    row = bmu[0]\n",
    "    col = bmu[1]\n",
    "    predicted = label_map[row][col]\n",
    "    winner_labels.append(predicted)\n",
    "  acc = accuracy_score(y_test_list[i].cpu().numpy(), winner_labels)\n",
    "  sum_acc += acc\n",
    "  n += 1\n",
    "  print(\"Accuracy: \",acc)\n",
    "\n",
    "print(\"Total Accuracy: \", sum_acc /n)"
   ],
   "metadata": {
    "collapsed": false,
    "pycharm": {
     "name": "#%%\n"
    }
   }
  },
  {
   "cell_type": "code",
   "execution_count": null,
   "metadata": {
    "id": "vVQfTlQmlTm4"
   },
   "outputs": [],
   "source": [
    "num_rows = 10\n",
    "num_cols = 10\n",
    "max_m_dsitance = 4\n",
    "max_learning_rate = 0.6\n",
    "max_steps = 20\n",
    "is_2d = False\n"
   ]
  },
  {
   "cell_type": "markdown",
   "source": [
    "## Initialising Self Organising Map"
   ],
   "metadata": {
    "id": "Y8O7k8U8nFaS"
   }
  },
  {
   "cell_type": "code",
   "execution_count": null,
   "metadata": {
    "id": "S7OtlKV-Lz2w"
   },
   "outputs": [],
   "source": [
    "num_dims = data_list[0].shape[1] # numnber of dimensions in the input data\n",
    "if is_2d:\n",
    "  np.random.seed(40)\n",
    "  som = np.random.random_sample(size=(num_rows, num_cols, num_dims)) # map construction\n",
    "  som[3][0] = None\n",
    "  som[3][2] = None\n",
    "  som = torch.from_numpy(som)\n",
    "else:\n",
    "  np.random.seed(40)\n",
    "  som = np.random.random_sample(size=(num_rows, num_cols, num_dims)) # map construction\n",
    "  som = torch.from_numpy(som)"
   ]
  },
  {
   "cell_type": "code",
   "execution_count": null,
   "metadata": {
    "colab": {
     "base_uri": "https://localhost:8080/"
    },
    "id": "sf0V9ER6NvX2",
    "outputId": "042461af-ca43-4471-afab-78c296464b4a"
   },
   "outputs": [
    {
     "output_type": "stream",
     "name": "stderr",
     "text": [
      "Epoch 1: 100%|\u001B[34m██████████\u001B[0m| 1000/1000 [11:33<00:00,  1.44it/s]\n",
      "Epoch 2: 100%|\u001B[34m██████████\u001B[0m| 1000/1000 [11:18<00:00,  1.47it/s]\n",
      "Epoch 3: 100%|\u001B[34m██████████\u001B[0m| 1000/1000 [10:53<00:00,  1.53it/s]\n",
      "Epoch 4: 100%|\u001B[34m██████████\u001B[0m| 1000/1000 [10:48<00:00,  1.54it/s]\n",
      "Epoch 5: 100%|\u001B[34m██████████\u001B[0m| 1000/1000 [10:48<00:00,  1.54it/s]\n",
      "Epoch 6: 100%|\u001B[34m██████████\u001B[0m| 1000/1000 [10:14<00:00,  1.63it/s]\n",
      "Epoch 7: 100%|\u001B[34m██████████\u001B[0m| 1000/1000 [10:17<00:00,  1.62it/s]\n",
      "Epoch 8: 100%|\u001B[34m██████████\u001B[0m| 1000/1000 [10:22<00:00,  1.61it/s]\n",
      "Epoch 9: 100%|\u001B[34m██████████\u001B[0m| 1000/1000 [10:22<00:00,  1.61it/s]\n",
      "Epoch 10: 100%|\u001B[34m██████████\u001B[0m| 1000/1000 [10:23<00:00,  1.60it/s]\n",
      "Epoch 11: 100%|\u001B[34m██████████\u001B[0m| 1000/1000 [09:51<00:00,  1.69it/s]\n",
      "Epoch 12: 100%|\u001B[34m██████████\u001B[0m| 1000/1000 [09:50<00:00,  1.69it/s]\n",
      "Epoch 13: 100%|\u001B[34m██████████\u001B[0m| 1000/1000 [09:52<00:00,  1.69it/s]\n",
      "Epoch 14: 100%|\u001B[34m██████████\u001B[0m| 1000/1000 [09:44<00:00,  1.71it/s]\n",
      "Epoch 15: 100%|\u001B[34m██████████\u001B[0m| 1000/1000 [09:40<00:00,  1.72it/s]\n",
      "Epoch 16: 100%|\u001B[34m██████████\u001B[0m| 1000/1000 [09:17<00:00,  1.80it/s]\n",
      "Epoch 17: 100%|\u001B[34m██████████\u001B[0m| 1000/1000 [09:19<00:00,  1.79it/s]\n",
      "Epoch 18: 100%|\u001B[34m██████████\u001B[0m| 1000/1000 [09:20<00:00,  1.78it/s]\n",
      "Epoch 19: 100%|\u001B[34m██████████\u001B[0m| 1000/1000 [09:21<00:00,  1.78it/s]\n",
      "Epoch 20: 100%|\u001B[34m██████████\u001B[0m| 1000/1000 [09:18<00:00,  1.79it/s]\n"
     ]
    }
   ],
   "source": [
    "epochs = 20\n",
    "\n",
    "for epoch in range(epochs):\n",
    "    for features in tqdm(data_list, desc=f\"Epoch {epoch+1}\", colour=\"blue\"):\n",
    "        # features.to(device)\n",
    "        # som = som.to(device)\n",
    "\n",
    "        # start training iterations\n",
    "        for i in range(features.shape[0]):\n",
    "          learning_rate, neighbourhood_range = decay(epoch, epochs, max_learning_rate, max_m_dsitance)\n",
    "          winner = winning_neuron(features[i], som, num_rows, num_cols)\n",
    "          for row in range(num_rows):\n",
    "            for col in range(num_cols):\n",
    "              if som[row][col] != None:\n",
    "                dist = m_distance([row,col],winner)\n",
    "                if dist <= neighbourhood_range:\n",
    "                  som[row][col] += learning_rate * dist_func(dist) * (features[i]-som[row][col]) #update neighbour's weight\n"
   ]
  },
  {
   "cell_type": "markdown",
   "source": [
    "## Collecting Labels"
   ],
   "metadata": {
    "id": "NE-GZdapmDDC"
   }
  },
  {
   "cell_type": "code",
   "execution_count": null,
   "metadata": {
    "id": "6pYjTtiYl-hu"
   },
   "outputs": [],
   "source": [
    "map = np.empty(shape=(num_rows, num_cols), dtype=object)\n",
    "for row in range(num_rows):\n",
    "  for col in range(num_cols):\n",
    "    if som[row][col] != None:\n",
    "      map[row][col] = [] # empty list to store the label\n",
    "\n",
    "for i, features in enumerate(data_list):\n",
    "\n",
    "\n",
    "  # features = feature_extractor(x_train)\n",
    "  # features = minmax_scaler(features)\n",
    "  # features = torch.from_numpy(features)\n",
    "  label_data = y_data_list[i].cpu().numpy()\n",
    "  \n",
    "  \n",
    "  for t in range(features.shape[0]):\n",
    "    winner = winning_neuron(features[t], som, num_rows, num_cols)\n",
    "    map[winner[0]][winner[1]].append(label_data[t]) # label of winning neuron"
   ]
  },
  {
   "cell_type": "markdown",
   "source": [
    "## Construct Label Map"
   ],
   "metadata": {
    "id": "jokD2bF-l4Z4"
   }
  },
  {
   "cell_type": "code",
   "execution_count": null,
   "metadata": {
    "id": "LXtsL7yrmBmY"
   },
   "outputs": [],
   "source": [
    "label_map = np.zeros(shape=(num_rows, num_cols),dtype=np.int64)\n",
    "for row in range(num_rows):\n",
    "  for col in range(num_cols):\n",
    "    if som[row][col] != None:\n",
    "      label_list = map[row][col]\n",
    "      if len(label_list)==0:\n",
    "        label = 11\n",
    "      else:\n",
    "        label = max(label_list, key=label_list.count)\n",
    "      label_map[row][col] = label\n"
   ]
  },
  {
   "cell_type": "markdown",
   "source": [
    "## Feature Map"
   ],
   "metadata": {
    "id": "ejOiASAWlmdw"
   }
  },
  {
   "cell_type": "code",
   "execution_count": 1,
   "metadata": {
    "colab": {
     "base_uri": "https://localhost:8080/",
     "height": 248
    },
    "id": "MCGVJP0ymEfu",
    "outputId": "cc5335f3-8f3d-4934-f020-a2bed288e3ec"
   },
   "outputs": [
    {
     "output_type": "error",
     "ename": "NameError",
     "evalue": "ignored",
     "traceback": [
      "\u001B[0;31m---------------------------------------------------------------------------\u001B[0m",
      "\u001B[0;31mNameError\u001B[0m                                 Traceback (most recent call last)",
      "\u001B[0;32m<ipython-input-1-c00054d66fc1>\u001B[0m in \u001B[0;36m<cell line: 3>\u001B[0;34m()\u001B[0m\n\u001B[1;32m      1\u001B[0m \u001B[0mtitle\u001B[0m \u001B[0;34m=\u001B[0m \u001B[0;34m(\u001B[0m\u001B[0;34m'Feature Map'\u001B[0m\u001B[0;34m)\u001B[0m\u001B[0;34m\u001B[0m\u001B[0;34m\u001B[0m\u001B[0m\n\u001B[1;32m      2\u001B[0m \u001B[0;31m# cmap = colors.ListedColormap(['tab:green', 'tab:red', 'tab:orange'])\u001B[0m\u001B[0;34m\u001B[0m\u001B[0;34m\u001B[0m\u001B[0m\n\u001B[0;32m----> 3\u001B[0;31m \u001B[0mplt\u001B[0m\u001B[0;34m.\u001B[0m\u001B[0mimshow\u001B[0m\u001B[0;34m(\u001B[0m\u001B[0mlabel_map\u001B[0m\u001B[0;34m,\u001B[0m \u001B[0mcmap\u001B[0m\u001B[0;34m=\u001B[0m\u001B[0;34m'Blues'\u001B[0m\u001B[0;34m)\u001B[0m\u001B[0;34m\u001B[0m\u001B[0;34m\u001B[0m\u001B[0m\n\u001B[0m\u001B[1;32m      4\u001B[0m \u001B[0mplt\u001B[0m\u001B[0;34m.\u001B[0m\u001B[0mcolorbar\u001B[0m\u001B[0;34m(\u001B[0m\u001B[0;34m)\u001B[0m\u001B[0;34m\u001B[0m\u001B[0;34m\u001B[0m\u001B[0m\n\u001B[1;32m      5\u001B[0m \u001B[0mplt\u001B[0m\u001B[0;34m.\u001B[0m\u001B[0mtitle\u001B[0m\u001B[0;34m(\u001B[0m\u001B[0mtitle\u001B[0m\u001B[0;34m)\u001B[0m\u001B[0;34m\u001B[0m\u001B[0;34m\u001B[0m\u001B[0m\n",
      "\u001B[0;31mNameError\u001B[0m: name 'plt' is not defined"
     ]
    }
   ],
   "source": [
    "title = ('Feature Map')\n",
    "# cmap = colors.ListedColormap(['tab:green', 'tab:red', 'tab:orange'])\n",
    "plt.imshow(label_map, cmap='Blues')\n",
    "plt.colorbar()\n",
    "plt.title(title)\n",
    "plt.show()"
   ]
  },
  {
   "cell_type": "markdown",
   "source": [
    "## Test Data\n",
    "using the trained som, search the winning node of corresponding to the test data "
   ],
   "metadata": {
    "id": "IGOdtVYUmL8H"
   }
  },
  {
   "cell_type": "code",
   "execution_count": null,
   "metadata": {
    "colab": {
     "base_uri": "https://localhost:8080/"
    },
    "id": "uzxNB0pI4fKQ",
    "outputId": "06abd4f4-5f57-44d8-e7b8-86dc32ff9a7c"
   },
   "outputs": [
    {
     "output_type": "stream",
     "name": "stdout",
     "text": [
      "Accuracy:  0.58\n",
      "Accuracy:  0.56\n",
      "Accuracy:  0.5\n",
      "Accuracy:  0.62\n",
      "Accuracy:  0.52\n",
      "Accuracy:  0.6\n",
      "Accuracy:  0.54\n",
      "Accuracy:  0.76\n",
      "Accuracy:  0.72\n",
      "Accuracy:  0.66\n",
      "Accuracy:  0.56\n",
      "Accuracy:  0.54\n",
      "Accuracy:  0.66\n",
      "Accuracy:  0.6\n",
      "Accuracy:  0.66\n",
      "Accuracy:  0.56\n",
      "Accuracy:  0.52\n",
      "Accuracy:  0.64\n",
      "Accuracy:  0.62\n",
      "Accuracy:  0.6\n",
      "Accuracy:  0.6\n",
      "Accuracy:  0.58\n",
      "Accuracy:  0.6\n",
      "Accuracy:  0.56\n",
      "Accuracy:  0.6\n",
      "Accuracy:  0.54\n",
      "Accuracy:  0.64\n",
      "Accuracy:  0.72\n",
      "Accuracy:  0.64\n",
      "Accuracy:  0.64\n",
      "Accuracy:  0.56\n",
      "Accuracy:  0.52\n",
      "Accuracy:  0.52\n",
      "Accuracy:  0.64\n",
      "Accuracy:  0.58\n",
      "Accuracy:  0.62\n",
      "Accuracy:  0.54\n",
      "Accuracy:  0.62\n",
      "Accuracy:  0.64\n",
      "Accuracy:  0.64\n",
      "Accuracy:  0.54\n",
      "Accuracy:  0.56\n",
      "Accuracy:  0.58\n",
      "Accuracy:  0.52\n",
      "Accuracy:  0.6\n",
      "Accuracy:  0.58\n",
      "Accuracy:  0.48\n",
      "Accuracy:  0.68\n",
      "Accuracy:  0.54\n",
      "Accuracy:  0.6\n",
      "Accuracy:  0.64\n",
      "Accuracy:  0.64\n",
      "Accuracy:  0.6\n",
      "Accuracy:  0.52\n",
      "Accuracy:  0.56\n",
      "Accuracy:  0.7\n",
      "Accuracy:  0.64\n",
      "Accuracy:  0.66\n",
      "Accuracy:  0.52\n",
      "Accuracy:  0.6\n",
      "Accuracy:  0.52\n",
      "Accuracy:  0.54\n",
      "Accuracy:  0.64\n",
      "Accuracy:  0.56\n",
      "Accuracy:  0.64\n",
      "Accuracy:  0.6\n",
      "Accuracy:  0.64\n",
      "Accuracy:  0.6\n",
      "Accuracy:  0.62\n",
      "Accuracy:  0.62\n",
      "Accuracy:  0.58\n",
      "Accuracy:  0.56\n",
      "Accuracy:  0.74\n",
      "Accuracy:  0.6\n",
      "Accuracy:  0.6\n",
      "Accuracy:  0.6\n",
      "Accuracy:  0.48\n",
      "Accuracy:  0.56\n",
      "Accuracy:  0.62\n",
      "Accuracy:  0.6\n",
      "Accuracy:  0.6\n",
      "Accuracy:  0.6\n",
      "Accuracy:  0.6\n",
      "Accuracy:  0.6\n",
      "Accuracy:  0.7\n",
      "Accuracy:  0.66\n",
      "Accuracy:  0.74\n",
      "Accuracy:  0.66\n",
      "Accuracy:  0.5\n",
      "Accuracy:  0.64\n",
      "Accuracy:  0.66\n",
      "Accuracy:  0.54\n",
      "Accuracy:  0.58\n",
      "Accuracy:  0.7\n",
      "Accuracy:  0.52\n",
      "Accuracy:  0.62\n",
      "Accuracy:  0.6\n",
      "Accuracy:  0.64\n",
      "Accuracy:  0.64\n",
      "Accuracy:  0.6\n",
      "Accuracy:  0.62\n",
      "Accuracy:  0.72\n",
      "Accuracy:  0.7\n",
      "Accuracy:  0.5\n",
      "Accuracy:  0.64\n",
      "Accuracy:  0.66\n",
      "Accuracy:  0.56\n",
      "Accuracy:  0.56\n",
      "Accuracy:  0.66\n",
      "Accuracy:  0.66\n",
      "Accuracy:  0.56\n",
      "Accuracy:  0.56\n",
      "Accuracy:  0.6\n",
      "Accuracy:  0.66\n",
      "Accuracy:  0.46\n",
      "Accuracy:  0.6\n",
      "Accuracy:  0.76\n",
      "Accuracy:  0.5\n",
      "Accuracy:  0.42\n",
      "Accuracy:  0.56\n",
      "Accuracy:  0.68\n",
      "Accuracy:  0.62\n",
      "Accuracy:  0.62\n",
      "Accuracy:  0.62\n",
      "Accuracy:  0.62\n",
      "Accuracy:  0.64\n",
      "Accuracy:  0.62\n",
      "Accuracy:  0.46\n",
      "Accuracy:  0.62\n",
      "Accuracy:  0.62\n",
      "Accuracy:  0.68\n",
      "Accuracy:  0.56\n",
      "Accuracy:  0.54\n",
      "Accuracy:  0.54\n",
      "Accuracy:  0.56\n",
      "Accuracy:  0.62\n",
      "Accuracy:  0.7\n",
      "Accuracy:  0.64\n",
      "Accuracy:  0.54\n",
      "Accuracy:  0.62\n",
      "Accuracy:  0.66\n",
      "Accuracy:  0.72\n",
      "Accuracy:  0.5\n",
      "Accuracy:  0.64\n",
      "Accuracy:  0.52\n",
      "Accuracy:  0.54\n",
      "Accuracy:  0.6\n",
      "Accuracy:  0.58\n",
      "Accuracy:  0.56\n",
      "Accuracy:  0.62\n",
      "Accuracy:  0.58\n",
      "Accuracy:  0.56\n",
      "Accuracy:  0.58\n",
      "Accuracy:  0.68\n",
      "Accuracy:  0.64\n",
      "Accuracy:  0.7\n",
      "Accuracy:  0.56\n",
      "Accuracy:  0.54\n",
      "Accuracy:  0.64\n",
      "Accuracy:  0.76\n",
      "Accuracy:  0.5\n",
      "Accuracy:  0.66\n",
      "Accuracy:  0.68\n",
      "Accuracy:  0.62\n",
      "Accuracy:  0.64\n",
      "Accuracy:  0.48\n",
      "Accuracy:  0.64\n",
      "Accuracy:  0.6\n",
      "Accuracy:  0.68\n",
      "Accuracy:  0.6\n",
      "Accuracy:  0.64\n",
      "Accuracy:  0.6\n",
      "Accuracy:  0.56\n",
      "Accuracy:  0.6\n",
      "Accuracy:  0.7\n",
      "Accuracy:  0.6\n",
      "Accuracy:  0.68\n",
      "Accuracy:  0.5\n",
      "Accuracy:  0.66\n",
      "Accuracy:  0.64\n",
      "Accuracy:  0.68\n",
      "Accuracy:  0.52\n",
      "Accuracy:  0.62\n",
      "Accuracy:  0.54\n",
      "Accuracy:  0.66\n",
      "Accuracy:  0.64\n",
      "Accuracy:  0.58\n",
      "Accuracy:  0.52\n",
      "Accuracy:  0.62\n",
      "Accuracy:  0.62\n",
      "Accuracy:  0.6\n",
      "Accuracy:  0.64\n",
      "Accuracy:  0.52\n",
      "Accuracy:  0.56\n",
      "Accuracy:  0.64\n",
      "Accuracy:  0.58\n",
      "Accuracy:  0.46\n",
      "Accuracy:  0.48\n",
      "Accuracy:  0.58\n",
      "Accuracy:  0.64\n",
      "Total Accuracy:  0.6017000000000006\n"
     ]
    }
   ],
   "source": [
    "sum_acc = 0\n",
    "n = 0\n",
    "for i, features in enumerate(data_test_list):\n",
    "\n",
    "  winner_labels = []\n",
    "\n",
    "  for t in range(features.shape[0]):\n",
    "    winner = winning_neuron(features[t], som, num_rows, num_cols)\n",
    "    row = winner[0]\n",
    "    col = winner[1]\n",
    "    predicted = label_map[row][col]\n",
    "    winner_labels.append(predicted)\n",
    "  acc = accuracy_score(y_test_list[i].cpu().numpy(), winner_labels)\n",
    "  sum_acc += acc\n",
    "  n += 1\n",
    "  print(\"Accuracy: \",acc)\n",
    "\n",
    "print(\"Total Accuracy: \", sum_acc /n)"
   ]
  }
 ],
 "metadata": {
  "accelerator": "GPU",
  "colab": {
   "provenance": []
  },
  "gpuClass": "standard",
  "kernelspec": {
   "display_name": "Python 3",
   "name": "python3"
  },
  "language_info": {
   "name": "python"
  }
 },
 "nbformat": 4,
 "nbformat_minor": 0
}