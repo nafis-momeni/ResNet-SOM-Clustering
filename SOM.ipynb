{
 "cells": [
  {
   "cell_type": "code",
   "execution_count": 52,
   "metadata": {
    "id": "WRwQtbLdF8D7",
    "pycharm": {
     "name": "#%%\n"
    }
   },
   "outputs": [],
   "source": [
    "import numpy as np\n",
    "import matplotlib.pyplot as plt\n",
    "import seaborn as sb\n",
    "\n",
    "import torch\n",
    "import torch.nn as nn\n",
    "from torchvision import datasets\n",
    "import torchvision.transforms as transforms\n",
    "from torchvision.models import resnet34\n",
    "from torch.utils.data import DataLoader\n",
    "\n",
    "from sklearn.metrics import confusion_matrix, f1_score\n",
    "import math\n",
    "from tqdm import tqdm\n",
    "\n",
    "\n",
    "from numpy.ma.core import ceil\n",
    "from scipy.spatial import distance #distance calculation\n",
    "from sklearn.preprocessing import MinMaxScaler #normalisation\n",
    "from sklearn.model_selection import train_test_split\n",
    "from sklearn.metrics import accuracy_score #scoring\n",
    "from sklearn.metrics import confusion_matrix\n",
    "import matplotlib.pyplot as plt\n",
    "from matplotlib import animation, colors"
   ]
  },
  {
   "cell_type": "code",
   "execution_count": null,
   "outputs": [],
   "source": [
    "# convert data to a normalized torch.FloatTensor\n",
    "# transform = transforms.Compose([    transforms.ToTensor(), transforms.Normalize(\n",
    "#         mean=[0.4914, 0.4822, 0.4465],\n",
    "#         std=[0.2023, 0.1994, 0.2010])\n",
    "# ])\n",
    "\n",
    "transform = transforms.Compose([\n",
    "    transforms.Resize((128, 128)), # Resize to 224x224 (height x width)\n",
    "    transforms.ToTensor(),\n",
    "    transforms.Normalize(mean=[0.485, 0.456, 0.406],\n",
    "                          std=[0.229, 0.224, 0.225])\n",
    "])"
   ],
   "metadata": {
    "collapsed": false,
    "pycharm": {
     "name": "#%%\n"
    }
   }
  },
  {
   "cell_type": "code",
   "execution_count": null,
   "outputs": [],
   "source": [
    "# loading the train data\n",
    "batch_size = 1000\n",
    "#drop_last=True\n",
    "train_data = datasets.CIFAR10('data', train=True,\n",
    "                              download=True, transform=transform)\n",
    "train_dataloader = DataLoader(train_data, batch_size=batch_size,shuffle=True )\n",
    "\n",
    "#loading the test data\n",
    "test_data = datasets.CIFAR10('data', train=False,\n",
    "                             download=True, transform=transform)\n",
    "test_dataloader = DataLoader(test_data,batch_size=batch_size, shuffle=True)\n",
    "# You should define x_train and y_train"
   ],
   "metadata": {
    "collapsed": false,
    "pycharm": {
     "name": "#%%\n"
    }
   }
  },
  {
   "cell_type": "code",
   "execution_count": null,
   "outputs": [],
   "source": [
    "feature_extractor = resnet34(pretrained=True)\n",
    "num_features = feature_extractor.fc.in_features\n",
    "\n",
    "for param in feature_extractor.parameters():\n",
    "    param.requires_grad = False\n",
    "\n",
    "feature_extractor.fc = nn.Identity()\n",
    "# feature_extractor.to(device)"
   ],
   "metadata": {
    "collapsed": false,
    "pycharm": {
     "name": "#%%\n"
    }
   }
  },
  {
   "cell_type": "code",
   "execution_count": null,
   "outputs": [],
   "source": [
    "\n",
    "# Helper functions\n",
    "\n",
    "# Data Normalisation\n",
    "def minmax_scaler(data):\n",
    "  scaler = MinMaxScaler()\n",
    "  scaled = scaler.fit_transform(data)\n",
    "  return scaled\n",
    "\n",
    "# Euclidean distance\n",
    "def e_distance(x,y):\n",
    "  return distance.euclidean(x,y)\n",
    "\n",
    "# Manhattan distance\n",
    "def m_distance(x,y):\n",
    "  return distance.cityblock(x,y)\n",
    "\n",
    "# Best Matching Unit search\n",
    "def winning_neuron(data, som, num_rows, num_cols):\n",
    "  winner = [0,0]\n",
    "  shortest_distance = 10e7 # initialise with max distance\n",
    "  for row in range(num_rows):\n",
    "    for col in range(num_cols):\n",
    "      distance = e_distance(som[row][col], data)\n",
    "      if distance < shortest_distance: \n",
    "        shortest_distance = distance\n",
    "        winner = [row,col]\n",
    "  return winner\n",
    "\n",
    "# Learning rate and neighbourhood range calculation\n",
    "def decay(step, max_steps,max_learning_rate,max_m_dsitance):\n",
    "  coefficient = 1.0 - (np.float64(step)/max_steps)\n",
    "  learning_rate = coefficient*max_learning_rate\n",
    "  # neighbourhood_range = ceil(coefficient * max_m_dsitance)\n",
    "  return learning_rate\n",
    "\n",
    "def dist_func(x):\n",
    "  #guassian\n",
    "  sig = 2 #?\n",
    "  return np.exp(-np.power(x , 2.) / (2 * np.power(sig, 2.)))\n",
    "  "
   ],
   "metadata": {
    "collapsed": false,
    "pycharm": {
     "name": "#%%\n"
    }
   }
  },
  {
   "cell_type": "code",
   "execution_count": null,
   "outputs": [],
   "source": [
    "y_data_list = []\n",
    "data_list = []\n",
    "for x_train, y_train in train_dataloader:\n",
    "\n",
    "  features = feature_extractor(x_train)\n",
    "  features = minmax_scaler(features)\n",
    "  features = torch.from_numpy(features)\n",
    "  data_list.append(features)\n",
    "\n",
    "  y_data_list.append(y_train)\n",
    "\n",
    "print(len(y_data_list))\n",
    "print(len(data_list))"
   ],
   "metadata": {
    "collapsed": false,
    "pycharm": {
     "name": "#%%\n"
    }
   }
  },
  {
   "cell_type": "code",
   "execution_count": null,
   "outputs": [],
   "source": [
    "y_test_list = []\n",
    "data_test_list = []\n",
    "for x_test, y_test in test_dataloader:\n",
    "\n",
    "  features = feature_extractor(x_test)\n",
    "  features = minmax_scaler(features)\n",
    "  features = torch.from_numpy(features)\n",
    "  data_test_list.append(features)\n",
    "\n",
    "  y_test_list.append(y_test)\n",
    "\n",
    "print(len(y_test_list))\n",
    "print(len(data_test_list))"
   ],
   "metadata": {
    "collapsed": false,
    "pycharm": {
     "name": "#%%\n"
    }
   }
  },
  {
   "cell_type": "code",
   "execution_count": null,
   "outputs": [],
   "source": [
    "# hyperparameters\n",
    "num_rows = 10\n",
    "num_cols = 10\n",
    "max_m_dsitance = 3\n",
    "max_learning_rate = 0.5\n",
    "# max_steps = int(7.5*10e3)\n",
    "max_steps = 20\n",
    "\n",
    "\n",
    "# num_nurons = 5*np.sqrt(train_x.shape[0])\n",
    "# grid_size = ceil(np.sqrt(num_nurons))\n",
    "# print(grid_size)"
   ],
   "metadata": {
    "collapsed": false,
    "pycharm": {
     "name": "#%%\n"
    }
   }
  },
  {
   "cell_type": "code",
   "execution_count": null,
   "outputs": [],
   "source": [
    "# train_x_norm = minmax_scaler(train_x) # normalisation\n",
    "\n",
    "# num_dims = train_x_norm.shape[1]\n",
    "\n",
    "\n",
    "# initialising self-organising map\n",
    "num_dims = 512 # numnber of dimensions in the input data\n",
    "\n",
    "np.random.seed(40)\n",
    "som = np.random.random_sample(size=(num_rows, num_cols, num_dims)) # map construction\n",
    "som = torch.from_numpy(som)"
   ],
   "metadata": {
    "collapsed": false,
    "pycharm": {
     "name": "#%%\n"
    }
   }
  },
  {
   "cell_type": "code",
   "execution_count": null,
   "outputs": [],
   "source": [
    "epochs = 1\n",
    "\n",
    "for epoch in range(epochs):\n",
    "    for features in tqdm(data_list, desc=f\"Epoch {epoch+1}\", colour=\"blue\"):\n",
    "            # Forward pass\n",
    "\n",
    "            # features = feature_extractor(x_train)\n",
    "            # features = minmax_scaler(features)\n",
    "            # features = torch.from_numpy(features)\n",
    "\n",
    "\n",
    "\n",
    "            # start training iterations\n",
    "            for i in range(features.shape[0]):\n",
    "              neighbourhood_range = max_m_dsitance\n",
    "              learning_rate = decay(epoch, epochs, max_learning_rate, max_m_dsitance)\n",
    "\n",
    "              # rand_data = np.random.randint(0,high=features.shape[0]) # random index of traing data\n",
    "              winner = winning_neuron(features[i], som, num_rows, num_cols)\n",
    "              for row in range(num_rows):\n",
    "                for col in range(num_cols):\n",
    "                  dist = m_distance([row,col],winner)\n",
    "                  if dist <= neighbourhood_range:\n",
    "                    som[row][col] += learning_rate * dist_func(dist) * (features[i]-som[row][col]) #update neighbour's weight\n",
    "\n",
    "            # print(\"SOM training completed\")"
   ],
   "metadata": {
    "collapsed": false,
    "pycharm": {
     "name": "#%%\n"
    }
   }
  },
  {
   "cell_type": "code",
   "execution_count": null,
   "outputs": [],
   "source": [
    "# collecting labels\n",
    "map = np.empty(shape=(num_rows, num_cols), dtype=object)\n",
    "for row in range(num_rows):\n",
    "  for col in range(num_cols):\n",
    "    map[row][col] = [] # empty list to store the label\n",
    "\n",
    "for i, features in enumerate(data_list):\n",
    "\n",
    "\n",
    "  # features = feature_extractor(x_train)\n",
    "  # features = minmax_scaler(features)\n",
    "  # features = torch.from_numpy(features)\n",
    "  label_data = np.array(y_data_list[i])\n",
    "  \n",
    "  \n",
    "  for t in range(features.shape[0]):\n",
    "    winner = winning_neuron(features[t], som, num_rows, num_cols)\n",
    "    map[winner[0]][winner[1]].append(label_data[t]) # label of winning neuron"
   ],
   "metadata": {
    "collapsed": false,
    "pycharm": {
     "name": "#%%\n"
    }
   }
  },
  {
   "cell_type": "code",
   "execution_count": null,
   "outputs": [],
   "source": [
    "print(np.array(y_data_list[0]))\n",
    "print(map[0][0])"
   ],
   "metadata": {
    "collapsed": false,
    "pycharm": {
     "name": "#%%\n"
    }
   }
  },
  {
   "cell_type": "code",
   "execution_count": null,
   "outputs": [],
   "source": [
    "# construct label map\n",
    "label_map = np.zeros(shape=(num_rows, num_cols),dtype=np.int64)\n",
    "for row in range(num_rows):\n",
    "  for col in range(num_cols):\n",
    "    label_list = map[row][col]\n",
    "    if len(label_list)==0:\n",
    "      label = 11\n",
    "    else:\n",
    "      label = max(label_list, key=label_list.count)\n",
    "    label_map[row][col] = label\n"
   ],
   "metadata": {
    "collapsed": false,
    "pycharm": {
     "name": "#%%\n"
    }
   }
  },
  {
   "cell_type": "code",
   "execution_count": null,
   "outputs": [],
   "source": [
    "# title = ('Iteration ' + str(max_steps))\n",
    "# cmap = colors.ListedColormap(['tab:green', 'tab:red', 'tab:orange'])\n",
    "plt.imshow(label_map, cmap='Blues')\n",
    "plt.colorbar()\n",
    "# plt.title(title)\n",
    "plt.show()"
   ],
   "metadata": {
    "collapsed": false,
    "pycharm": {
     "name": "#%%\n"
    }
   }
  },
  {
   "cell_type": "code",
   "execution_count": null,
   "outputs": [],
   "source": [
    "\n",
    "# test data\n",
    "\n",
    "# using the trained som, search the winning node of corresponding to the test data\n",
    "# get the label of the winning node\n",
    "# x_test, y_test = test_dataloader\n",
    "sum_acc = 0\n",
    "n = 0\n",
    "for i, features in enumerate(data_test_list):\n",
    "\n",
    "\n",
    "  # features = feature_extractor(x_test)\n",
    "  # features = minmax_scaler(features)\n",
    "  # features = torch.from_numpy(features)\n",
    "  winner_labels = []\n",
    "\n",
    "  for t in range(features.shape[0]):\n",
    "    winner = winning_neuron(features[t], som, num_rows, num_cols)\n",
    "    row = winner[0]\n",
    "    col = winner[1]\n",
    "    predicted = label_map[row][col]\n",
    "    winner_labels.append(predicted)\n",
    "  acc = accuracy_score(np.array(y_test_list[i]), np.array(winner_labels))\n",
    "  sum_acc += acc\n",
    "  n += 1\n",
    "  print(\"Accuracy: \",acc)\n",
    "\n",
    "print(\"Total Accuracy: \", sum_acc /n)"
   ],
   "metadata": {
    "collapsed": false,
    "pycharm": {
     "name": "#%%\n"
    }
   }
  },
  {
   "cell_type": "code",
   "execution_count": null,
   "outputs": [],
   "source": [
    "\n",
    "# #mian function\n",
    "\n",
    "# # start training iterations\n",
    "# for step in range(max_steps):\n",
    "#   if (step+1) % 1000 == 0:\n",
    "#     print(\"Iteration: \", step+1) # print out the current iteration for every 1k\n",
    "#   neighbourhood_range = max_m_dsitance\n",
    "#   learning_rate = decay(step, max_steps,max_learning_rate,max_m_dsitance)\n",
    "\n",
    "#   t = np.random.randint(0,high=train_x.shape[0]) # random index of traing data\n",
    "#   winner = winning_neuron(train_x, t, som, num_rows, num_cols)\n",
    "#   for row in range(num_rows):\n",
    "#     for col in range(num_cols):\n",
    "#       if m_distance([row,col],winner)<= neighbourhood_range:\n",
    "#         som[row][col] += learning_rate*(train_x[t]-som[row][col]) #update neighbour's weight\n",
    "\n",
    "# print(\"SOM training completed\")"
   ],
   "metadata": {
    "collapsed": false,
    "pycharm": {
     "name": "#%%\n"
    }
   }
  },
  {
   "cell_type": "code",
   "execution_count": 49,
   "metadata": {
    "id": "MCGVJP0ymEfu",
    "colab": {
     "base_uri": "https://localhost:8080/",
     "height": 430
    },
    "outputId": "74006588-060b-485e-9ca8-f9393f95fe18",
    "pycharm": {
     "name": "#%%\n"
    }
   },
   "outputs": [
    {
     "output_type": "display_data",
     "data": {
      "text/plain": [
       "<Figure size 640x480 with 2 Axes>"
      ],
      "image/png": "[encoded data removed]"
     },
     "metadata": {}
    }
   ],
   "source": [
    "# title = ('Iteration ' + str(max_steps))\n",
    "# cmap = colors.ListedColormap(['tab:green', 'tab:red', 'tab:orange'])\n",
    "plt.imshow(label_map, cmap='Blues')\n",
    "plt.colorbar()\n",
    "# plt.title(title)\n",
    "plt.show()"
   ]
  },
  {
   "cell_type": "code",
   "execution_count": 51,
   "metadata": {
    "id": "uzxNB0pI4fKQ",
    "colab": {
     "base_uri": "https://localhost:8080/"
    },
    "outputId": "fbdac9dd-0bea-42a5-92a8-9fe6c738eb60",
    "pycharm": {
     "name": "#%%\n"
    }
   },
   "outputs": [
    {
     "output_type": "stream",
     "name": "stdout",
     "text": [
      "Accuracy:  0.227\n",
      "Accuracy:  0.281\n",
      "Accuracy:  0.268\n",
      "Accuracy:  0.279\n",
      "Accuracy:  0.262\n",
      "Accuracy:  0.253\n",
      "Accuracy:  0.265\n",
      "Accuracy:  0.235\n",
      "Accuracy:  0.264\n",
      "Accuracy:  0.268\n",
      "Total Accuracy:  0.26020000000000004\n"
     ]
    }
   ],
   "source": [
    "\n",
    "# test data\n",
    "\n",
    "# using the trained som, search the winning node of corresponding to the test data\n",
    "# get the label of the winning node\n",
    "# x_test, y_test = test_dataloader\n",
    "sum_acc = 0\n",
    "n = 0\n",
    "for i, features in enumerate(data_test_list):\n",
    "\n",
    "\n",
    "  # features = feature_extractor(x_test)\n",
    "  # features = minmax_scaler(features)\n",
    "  # features = torch.from_numpy(features)\n",
    "  winner_labels = []\n",
    "\n",
    "  for t in range(features.shape[0]):\n",
    "    winner = winning_neuron(features[t], som, num_rows, num_cols)\n",
    "    row = winner[0]\n",
    "    col = winner[1]\n",
    "    predicted = label_map[row][col]\n",
    "    winner_labels.append(predicted)\n",
    "  acc = accuracy_score(np.array(y_test_list[i]), np.array(winner_labels))\n",
    "  sum_acc += acc\n",
    "  n += 1\n",
    "  print(\"Accuracy: \",acc)\n",
    "\n",
    "print(\"Total Accuracy: \", sum_acc /n)"
   ]
  },
  {
   "cell_type": "code",
   "execution_count": null,
   "metadata": {
    "id": "rFr4RQ10l5qm",
    "pycharm": {
     "name": "#%%\n"
    }
   },
   "outputs": [],
   "source": [
    "\n",
    "# #mian function\n",
    "\n",
    "# # start training iterations\n",
    "# for step in range(max_steps):\n",
    "#   if (step+1) % 1000 == 0:\n",
    "#     print(\"Iteration: \", step+1) # print out the current iteration for every 1k\n",
    "#   neighbourhood_range = max_m_dsitance\n",
    "#   learning_rate = decay(step, max_steps,max_learning_rate,max_m_dsitance)\n",
    "\n",
    "#   t = np.random.randint(0,high=train_x.shape[0]) # random index of traing data\n",
    "#   winner = winning_neuron(train_x, t, som, num_rows, num_cols)\n",
    "#   for row in range(num_rows):\n",
    "#     for col in range(num_cols):\n",
    "#       if m_distance([row,col],winner)<= neighbourhood_range:\n",
    "#         som[row][col] += learning_rate*(train_x[t]-som[row][col]) #update neighbour's weight\n",
    "\n",
    "# print(\"SOM training completed\")"
   ]
  }
 ],
 "metadata": {
  "colab": {
   "provenance": []
  },
  "kernelspec": {
   "display_name": "Python 3",
   "name": "python3"
  },
  "language_info": {
   "name": "python"
  }
 },
 "nbformat": 4,
 "nbformat_minor": 0
}