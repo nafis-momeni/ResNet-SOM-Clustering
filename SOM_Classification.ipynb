{
  "metadata": {
    "accelerator": "GPU",
    "colab": {
      "provenance": [],
      "gpuType": "T4"
    },
    "gpuClass": "standard",
    "kernelspec": {
      "name": "python3",
      "display_name": "Python 3",
      "language": "python"
    },
    "language_info": {
      "name": "python",
      "version": "3.10.10",
      "mimetype": "text/x-python",
      "codemirror_mode": {
        "name": "ipython",
        "version": 3
      },
      "pygments_lexer": "ipython3",
      "nbconvert_exporter": "python",
      "file_extension": ".py"
    }
  },
  "nbformat_minor": 0,
  "nbformat": 4,
  "cells": [
    {
      "cell_type": "code",
      "source": [
        "import numpy as np\n",
        "\n",
        "import torch\n",
        "import torch.nn as nn\n",
        "from torchvision import datasets\n",
        "import torchvision.transforms as transforms\n",
        "from torchvision.models import resnet34\n",
        "from torch.utils.data import DataLoader\n",
        "\n",
        "from sklearn.metrics import confusion_matrix, f1_score\n",
        "import random\n",
        "import math\n",
        "from tqdm import tqdm\n",
        "\n",
        "from numpy.ma.core import ceil\n",
        "from scipy.spatial import distance  #distance calculation\n",
        "from sklearn.preprocessing import MinMaxScaler  #normalisation\n",
        "from sklearn.metrics import accuracy_score  #scoring\n",
        "import matplotlib.pyplot as plt\n",
        "from matplotlib import colors"
      ],
      "metadata": {
        "id": "WRwQtbLdF8D7",
        "pycharm": {
          "name": "#%%\n"
        },
        "execution": {
          "iopub.status.busy": "2023-05-19T09:03:06.569647Z",
          "iopub.execute_input": "2023-05-19T09:03:06.570226Z",
          "iopub.status.idle": "2023-05-19T09:03:10.194593Z",
          "shell.execute_reply.started": "2023-05-19T09:03:06.570190Z",
          "shell.execute_reply": "2023-05-19T09:03:10.193694Z"
        },
        "trusted": true
      },
      "execution_count": 13,
      "outputs": []
    },
    {
      "cell_type": "code",
      "source": [
        "transform = transforms.Compose([\n",
        "    transforms.Resize((128, 128)),  # Resize to 224x224 (height x width)\n",
        "    transforms.ToTensor(),\n",
        "    transforms.Normalize(mean=[0.485, 0.456, 0.406],\n",
        "                         std=[0.229, 0.224, 0.225])\n",
        "])"
      ],
      "metadata": {
        "id": "rd6J04URiw13",
        "pycharm": {
          "name": "#%%\n"
        },
        "execution": {
          "iopub.status.busy": "2023-05-19T09:03:10.196452Z",
          "iopub.execute_input": "2023-05-19T09:03:10.198140Z",
          "iopub.status.idle": "2023-05-19T09:03:10.203994Z",
          "shell.execute_reply.started": "2023-05-19T09:03:10.198103Z",
          "shell.execute_reply": "2023-05-19T09:03:10.203102Z"
        },
        "trusted": true
      },
      "execution_count": 14,
      "outputs": []
    },
    {
      "cell_type": "code",
      "execution_count": 15,
      "outputs": [
        {
          "output_type": "stream",
          "name": "stdout",
          "text": [
            "Files already downloaded and verified\n",
            "Files already downloaded and verified\n"
          ]
        }
      ],
      "source": [
        "# loading the train data\n",
        "batch_size = 5\n",
        "\n",
        "train_data = datasets.CIFAR10('data', train=True,\n",
        "                              download=True, transform=transform)\n",
        "train_dataloader = DataLoader(train_data, batch_size=batch_size, shuffle=True)\n",
        "\n",
        "#loading the test data\n",
        "test_data = datasets.CIFAR10('data', train=False,\n",
        "                             download=True, transform=transform)\n",
        "test_dataloader = DataLoader(test_data, batch_size=batch_size, shuffle=True)\n"
      ],
      "metadata": {
        "pycharm": {
          "name": "#%%\n"
        },
        "colab": {
          "base_uri": "https://localhost:8080/"
        },
        "id": "M6ANgRgWaJs-",
        "outputId": "f6269ba8-f829-4495-bd69-5e11534b53af"
      }
    },
    {
      "cell_type": "code",
      "execution_count": 16,
      "outputs": [
        {
          "output_type": "stream",
          "name": "stdout",
          "text": [
            "cuda\n"
          ]
        }
      ],
      "source": [
        "device = torch.device(\"cuda\" if torch.cuda.is_available() else \"cpu\")\n",
        "print(device)"
      ],
      "metadata": {
        "pycharm": {
          "name": "#%%\n"
        },
        "colab": {
          "base_uri": "https://localhost:8080/"
        },
        "id": "Fl5jLToPaJtK",
        "outputId": "bb3f6aa6-f79b-499c-8662-a34704fb8d6f"
      }
    },
    {
      "cell_type": "markdown",
      "source": [
        "## Feature Extractor"
      ],
      "metadata": {
        "collapsed": false,
        "pycharm": {
          "name": "#%% md\n"
        },
        "id": "TI97iF5gaJtO"
      }
    },
    {
      "cell_type": "code",
      "execution_count": 17,
      "outputs": [],
      "source": [
        "feature_extractor = resnet34(weights=\"DEFAULT\")\n",
        "num_features = feature_extractor.fc.in_features\n",
        "\n",
        "for param in feature_extractor.parameters():\n",
        "  param.requires_grad = False\n",
        "\n",
        "feature_extractor.fc = nn.Identity()\n",
        "feature_extractor = feature_extractor.to(device)"
      ],
      "metadata": {
        "pycharm": {
          "name": "#%%\n"
        },
        "id": "vgiv5nboaJtU"
      }
    },
    {
      "cell_type": "markdown",
      "source": [
        "## Optimizer and Helper Functions"
      ],
      "metadata": {
        "collapsed": false,
        "pycharm": {
          "name": "#%% md\n"
        },
        "id": "aF0F4bPWaJtY"
      }
    },
    {
      "cell_type": "code",
      "execution_count": 18,
      "outputs": [],
      "source": [
        "\n",
        "# Manhattan distance\n",
        "def manhattan_distance(x, y):\n",
        "    return distance.cityblock(x, y)\n",
        "\n",
        "\n",
        "# Euclidean distance\n",
        "def euclidean_distance(x, y):\n",
        "    return torch.sqrt(torch.sum((x - y) ** 2, dim=-1))\n",
        "\n",
        "\n",
        "# Calculate the learning rate and neighbourhood range based on the current training step.\n",
        "def optimizer(step, max_steps, max_lr, max_m_distance):\n",
        "    coefficient = 1.0 - (np.float64(step) / max_steps)\n",
        "    # neighbourhood_range = ceil(coefficient * max_m_distance)\n",
        "    neighbourhood_range = max_neighborhood_range\n",
        "    learning_rate = coefficient * max_lr\n",
        "    return learning_rate, neighbourhood_range\n",
        "\n",
        "\n",
        "#Calculate the Gaussian distance based on the input value.\n",
        "def distance_func(x):\n",
        "    sig = 1 \n",
        "    return np.exp(-np.power(x, 2.) / (2 * np.power(sig, 2.)))\n"
      ],
      "metadata": {
        "pycharm": {
          "name": "#%%\n"
        },
        "id": "_EXsZpCwaJtb"
      }
    },
    {
      "cell_type": "markdown",
      "source": [
        "## Hyperparameters"
      ],
      "metadata": {
        "collapsed": false,
        "pycharm": {
          "name": "#%% md\n"
        },
        "id": "MLpdh30OaJtd"
      }
    },
    {
      "cell_type": "code",
      "execution_count": 19,
      "outputs": [],
      "source": [
        "num_rows = 1\n",
        "num_cols = 10\n",
        "max_neighborhood_range = 1\n",
        "max_learning_rate = 0.001\n",
        "max_steps = 50000\n",
        "is_2d_10_neuron = False\n"
      ],
      "metadata": {
        "pycharm": {
          "name": "#%%\n"
        },
        "id": "FQCqdJx3aJtf"
      }
    },
    {
      "cell_type": "markdown",
      "source": [
        "## Evaluation Measures"
      ],
      "metadata": {
        "collapsed": false,
        "pycharm": {
          "name": "#%% md\n"
        },
        "id": "D-WdKyFCaJth"
      }
    },
    {
      "cell_type": "code",
      "execution_count": 20,
      "outputs": [],
      "source": [
        "if not is_2d_10_neuron:\n",
        "    num_neurons = num_rows * num_cols\n",
        "else:\n",
        "    num_neurons = num_rows * num_cols - 2\n",
        "\n",
        "\n",
        "def create_label_map(map):\n",
        "    \"\"\"\n",
        "      Create a label map and calculate label dispersion based on a given map.\n",
        "\n",
        "      Parameters:\n",
        "          label_map (array-like): The input map containing label information.\n",
        "\n",
        "      Returns:\n",
        "          tuple: A tuple containing the label map and the label dispersion map.\n",
        "\n",
        "    \"\"\"\n",
        "    label_map = np.zeros(shape=(num_rows, num_cols), dtype=np.int64)\n",
        "    label_dispersion = np.zeros(shape=(num_rows, num_cols), dtype=np.float64)\n",
        "    for row in range(num_rows):\n",
        "        for col in range(num_cols):\n",
        "            label_list = map[row][col]\n",
        "            if len(label_list) == 0:\n",
        "                label = -3 # Invalid label when there are no labels in the list\n",
        "                dispersion = 0.0\n",
        "            else:\n",
        "                label = max(label_list, key=label_list.count)  # Most frequent label in the list\n",
        "                count_label = label_list.count(label)  # Number of occurrences of the most frequent label\n",
        "                count_all_labels = len(label_list)  # Total number of labels in the list\n",
        "                dispersion = count_label / count_all_labels  # Calculate the label dispersion\n",
        "\n",
        "            label_map[row][col] = label\n",
        "            label_dispersion[row][col] = dispersion\n",
        "            \n",
        "    return label_map, label_dispersion\n",
        "\n",
        "\n",
        "\n",
        "def distance_som(som):\n",
        "    \"\"\"\n",
        "    Calculate the distance map and U-matrix for a Self-Organizing Map (SOM).\n",
        "\n",
        "    Parameters:\n",
        "        som (array-like): Self-Organizing Map.\n",
        "\n",
        "    Returns:\n",
        "        tuple: A tuple containing the distance SOM map, average SOM distance, and U-matrix.\n",
        "\n",
        "    \"\"\"\n",
        "    distance_som_map = np.empty(shape=(num_rows, num_cols), dtype=object)\n",
        "    u_matrix = np.empty(shape=(num_rows, num_cols), dtype=np.float64)\n",
        "    for row in range(num_rows):\n",
        "        for col in range(num_cols):\n",
        "            distance_som_map[row][col] = []\n",
        "\n",
        "    total_dist = 0\n",
        "    for row in range(num_rows):\n",
        "        for col in range(num_cols):\n",
        "            if is_2d_10_neuron and (row == 3 and col == 0 or row == 3 and col == 2):\n",
        "                pass\n",
        "            else:\n",
        "                u_value = 0\n",
        "                for i in range(num_rows):\n",
        "                    for j in range(num_cols):\n",
        "                        if is_2d_10_neuron and (i == 3 and j == 0 or i == 3 and j == 2):\n",
        "                            pass\n",
        "                        else:\n",
        "                            # Calculate the Euclidean distance between current neuron and other neurons\n",
        "                            dist = euclidean_distance(som[row][col], som[i][j])\n",
        "                            dist = dist.cpu().numpy()\n",
        "                            total_dist += dist\n",
        "                            u_value += dist\n",
        "                            distance_som_map[row][col].append(dist)\n",
        "\n",
        "                # Calculate the average distance (U-value) for the current neuron\n",
        "                u_matrix[row][col] = u_value / num_neurons\n",
        "\n",
        "    return distance_som_map, total_dist / num_neurons ** 2, u_matrix"
      ],
      "metadata": {
        "pycharm": {
          "name": "#%%\n"
        },
        "id": "30w1Ug2gaJtj"
      }
    },
    {
      "cell_type": "markdown",
      "source": [
        "## Find Best Matching Unit"
      ],
      "metadata": {
        "collapsed": false,
        "pycharm": {
          "name": "#%% md\n"
        },
        "id": "B9lK3M-daJtm"
      }
    },
    {
      "cell_type": "code",
      "execution_count": 21,
      "outputs": [],
      "source": [
        "# Best Matching Unit search\n",
        "def bmu_search(data, som, num_rows, num_cols):\n",
        "    \"\"\"\n",
        "    Find the Best Matching Unit (BMU) in the Self-Organizing Map (SOM) for a given input data.\n",
        "\n",
        "    Parameters:\n",
        "        data (array-like): Input data to find the BMU for.\n",
        "        som (array-like): Self-Organizing Map.\n",
        "        num_rows (int): Number of rows in the SOM.\n",
        "        num_cols (int): Number of columns in the SOM.\n",
        "\n",
        "    Returns:\n",
        "        tuple: The coordinates of the BMU in the SOM grid and the distance between the BMU and the input data.\n",
        "\n",
        "    \"\"\"\n",
        "    winner = [0, 0]\n",
        "    shortest_distance = 10e6\n",
        "    for row in range(num_rows):\n",
        "        for col in range(num_cols):\n",
        "            distance = euclidean_distance(som[row][col], data)\n",
        "            if distance < shortest_distance:\n",
        "                shortest_distance = distance\n",
        "                winner = [row, col]\n",
        "    return winner, shortest_distance"
      ],
      "metadata": {
        "pycharm": {
          "name": "#%%\n"
        },
        "id": "vKIN3ha-aJtm"
      }
    },
    {
      "cell_type": "markdown",
      "source": [
        "## Initializing Self Organising Map"
      ],
      "metadata": {
        "collapsed": false,
        "pycharm": {
          "name": "#%% md\n"
        },
        "id": "Fy-dDI0YaJtn"
      }
    },
    {
      "cell_type": "code",
      "execution_count": 22,
      "outputs": [],
      "source": [
        "num_features = 512  # numnber of dimensions in the input data\n",
        "\n",
        "if is_2d_10_neuron:\n",
        "    np.random.seed(3407)\n",
        "    som = np.random.random_sample(size=(num_rows, num_cols, num_features))  # map construction\n",
        "    som[3][0] = 10e9\n",
        "    som[3][2] = 10e9\n",
        "    som = torch.from_numpy(som).to(device)\n",
        "\n",
        "else:\n",
        "    np.random.seed(3407)\n",
        "    som = np.random.random_sample(size=(num_rows, num_cols, num_features))  # map construction\n",
        "    som = torch.from_numpy(som).to(device)\n"
      ],
      "metadata": {
        "pycharm": {
          "name": "#%%\n"
        },
        "id": "0Ml1Qp0XaJtn"
      }
    },
    {
      "cell_type": "markdown",
      "source": [
        "# Training\n",
        "performs training and evaluation iterations for a Self-Organizing Map (SOM)"
      ],
      "metadata": {
        "collapsed": false,
        "pycharm": {
          "name": "#%% md\n"
        },
        "id": "nXKtfin_aJtp"
      }
    },
    {
      "cell_type": "code",
      "execution_count": 23,
      "outputs": [
        {
          "output_type": "stream",
          "name": "stderr",
          "text": [
            "Epoch 1: 100%|\u001b[34m██████████\u001b[0m| 10000/10000 [03:16<00:00, 50.79it/s]\n"
          ]
        },
        {
          "output_type": "stream",
          "name": "stdout",
          "text": [
            "Accuracy:  0.26084\n",
            "F1 score: 0.18344421681491271\n",
            "avg dispersion: 31.307037394176515\n",
            "quantization error:  19.106428142351287\n",
            "avg neuron distances : 8.248473031515498\n",
            "Learning Rate: 0.0\n"
          ]
        }
      ],
      "source": [
        "# Set the number of epochs and initialize the step counter\n",
        "epochs = 1\n",
        "step = 0\n",
        "\n",
        "# Initialize arrays to store the final SOM labels, BMU labels, label dispersion, and U-matrix\n",
        "final_som_label = np.zeros(shape=(num_rows, num_cols), dtype=np.int64)\n",
        "final_bmu_labels = np.empty(shape=(num_rows, num_cols), dtype=object)\n",
        "final_label_dispersion = np.zeros(shape=(num_rows, num_cols), dtype=np.float64)\n",
        "final_u_matrix = np.zeros(shape=(num_rows, num_cols), dtype=np.float64)\n",
        "\n",
        "for epoch in range(epochs):\n",
        "    q_error = 0 # Initialize quantization error\n",
        "\n",
        "    # Initialize empty arrays to store the BMU labels for each neuron\n",
        "    bmu_labels = np.empty(shape=(num_rows, num_cols), dtype=object)\n",
        "    for row in range(num_rows):\n",
        "        for col in range(num_cols):\n",
        "            bmu_labels[row][col] = []\n",
        "\n",
        "    final_features = torch.zeros(0, dtype=torch.long, device=device)\n",
        "    final_y = torch.zeros(0, dtype=torch.long, device=device)\n",
        "    bmus = [] # Initialize list to store BMUs\n",
        "\n",
        "    # Iterate over the training data\n",
        "    for x_train, y_train in tqdm(train_dataloader, desc=f\"Epoch {epoch + 1}\", colour=\"blue\"):\n",
        "        x_train, y_train = x_train.to(device), y_train.to(device)\n",
        "        features = feature_extractor(x_train) # Extract features from input data\n",
        "\n",
        "        label_data = y_train.cpu().numpy()\n",
        "        final_features = torch.cat([final_features] + [f.view(1, -1).detach().clone() for f in features])\n",
        "        final_y = torch.cat([final_y, y_train.view(-1)])\n",
        "\n",
        "        # start training iteration for each input feature\n",
        "        for i in range(features.shape[0]):\n",
        "            step += 1\n",
        "            learning_rate, neighbourhood_range = optimizer(step, max_steps * epochs, max_learning_rate, max_neighborhood_range)\n",
        "\n",
        "            # Find the winner neuron (BMU) and its distance from the input\n",
        "            bmu, dis = bmu_search(features[i], som, num_rows, num_cols)\n",
        "            dis = dis.cpu().numpy()\n",
        "            #quantization error\n",
        "            q_error += dis\n",
        "\n",
        "            bmu_labels[bmu[0]][bmu[1]].append(label_data[i])  # Append the label of the current BMU to the corresponding neuron\n",
        "            bmus.append(bmu)  # Add the current BMU to the list of BMUs\n",
        "\n",
        "            # Update the weights of neighboring neurons based on their distance from the BMU\n",
        "            for row in range(num_rows):\n",
        "                for col in range(num_cols):\n",
        "                    if is_2d_10_neuron and (row == 3 and col == 0 or row == 3 and col == 2):\n",
        "                        pass\n",
        "                    else:\n",
        "                        dist = manhattan_distance([row, col], bmu)\n",
        "                        if dist <= neighbourhood_range:\n",
        "                            som[row][col] += distance_func(dist) * learning_rate * (\n",
        "                                        features[i] - som[row][col])  #update neighbour's weight\n",
        "\n",
        "    #evalation measures\n",
        "    som_label, label_dispersion = create_label_map(bmu_labels)\n",
        "    labels_from_bmu = np.zeros(shape=len(bmus), dtype=np.int64)\n",
        "    for i, bmu in enumerate(bmus):\n",
        "        labels_from_bmu[i] = som_label[bmu[0]][bmu[1]]\n",
        "\n",
        "    quantization_error = q_error / len(bmus)\n",
        "    acc = accuracy_score(final_y.cpu().numpy(), labels_from_bmu)\n",
        "    f1 = f1_score(final_y.cpu().numpy(), labels_from_bmu, average='weighted')\n",
        "    avg_dispersion = np.sum(label_dispersion)/num_rows * num_cols\n",
        "    som_dist_map, avg_som_dist, u_matrix = distance_som(som)\n",
        "\n",
        "    #save label maps to visualize data\n",
        "    if epoch == epochs - 1:\n",
        "        final_bmu_labels = bmu_labels\n",
        "        final_som_label = som_label\n",
        "        final_label_dispersion = label_dispersion\n",
        "        final_u_matrix = u_matrix\n",
        "\n",
        "    print(\"Accuracy: \", acc)\n",
        "    print(\"F1 score:\", f1)\n",
        "    print(\"avg dispersion:\", avg_dispersion)\n",
        "    print(\"quantization error: \", quantization_error)\n",
        "    print(\"avg neuron distances :\", avg_som_dist)\n",
        "    print(\"Learning Rate:\", learning_rate)\n"
      ],
      "metadata": {
        "pycharm": {
          "name": "#%%\n"
        },
        "colab": {
          "base_uri": "https://localhost:8080/"
        },
        "id": "wP4aHcg2aJtp",
        "outputId": "3b7ceffa-d362-4d53-bd80-6697e7ca071c"
      }
    },
    {
      "cell_type": "markdown",
      "source": [
        "## Test Data\n",
        "using the trained som, search the winning node of corresponding to the test data "
      ],
      "metadata": {
        "id": "Xp1Kx1gUiw2I",
        "pycharm": {
          "name": "#%% md\n"
        }
      }
    },
    {
      "cell_type": "code",
      "source": [
        "sum_acc = 0\n",
        "sum_f1 = 0\n",
        "n = 0\n",
        "\n",
        "for x_test, y_test in test_dataloader:\n",
        "    x_test, y_test = x_test.to(device), y_test.to(device)\n",
        "    features = feature_extractor(x_test)\n",
        "\n",
        "    winner_labels = []\n",
        "\n",
        "    for t in range(features.shape[0]):\n",
        "        bmu = bmu_search(features[t], som, num_rows, num_cols)\n",
        "        row = bmu[0][0]\n",
        "        col = bmu[0][1]\n",
        "        predicted = final_som_label[row][col]\n",
        "        winner_labels.append(predicted)\n",
        "    acc = accuracy_score(y_test.cpu().numpy(), winner_labels)\n",
        "    f1 = f1_score(y_test.cpu().numpy(), winner_labels, average='weighted')\n",
        "    sum_f1 += f1\n",
        "    sum_acc += acc\n",
        "    n += 1\n",
        "\n",
        "print(\"Total Accuracy: \", sum_acc / n)\n",
        "print(\"Average F1 score:\", sum_f1 / n)\n",
        "print(\"Average Dispersion :\", avg_dispersion)"
      ],
      "metadata": {
        "id": "2GQ0X5OMiw2J",
        "colab": {
          "base_uri": "https://localhost:8080/"
        },
        "outputId": "333fcb0d-3a8b-4c86-9f70-ad86d17c81a7",
        "pycharm": {
          "name": "#%%\n"
        },
        "trusted": true
      },
      "execution_count": 24,
      "outputs": [
        {
          "output_type": "stream",
          "name": "stdout",
          "text": [
            "Total Accuracy:  0.29569999999999796\n",
            "Average F1 score: 0.2835928571428554\n",
            "Average Dispersion : 31.307037394176515\n"
          ]
        }
      ]
    },
    {
      "cell_type": "markdown",
      "source": [
        "## Feature Map"
      ],
      "metadata": {
        "id": "t-lr11zYiw2I",
        "pycharm": {
          "name": "#%% md\n"
        }
      }
    },
    {
      "cell_type": "code",
      "source": [
        "title = ('Feature Map')\n",
        "fig, ax = plt.subplots(figsize=(10, 6))\n",
        "plt.imshow(final_som_label, cmap='Blues')\n",
        "ax.set_xticks(np.arange(num_cols))\n",
        "ax.set_yticks(np.arange(num_rows))\n",
        "ax.set_xticklabels(np.arange(1, num_cols + 1))\n",
        "ax.set_yticklabels(np.arange(1, num_rows + 1))\n",
        "plt.setp(ax.get_xticklabels(), rotation=45, ha=\"right\",\n",
        "         rotation_mode=\"anchor\")\n",
        "\n",
        "for i in range(num_rows):\n",
        "    for j in range(num_cols):\n",
        "        text = ax.text(j, i, '{:.2f}'.format(final_som_label[i][j]),\n",
        "                       ha=\"center\", va=\"center\", color=\"black\")\n",
        "\n",
        "plt.colorbar()\n",
        "plt.title(title)\n",
        "plt.show()"
      ],
      "metadata": {
        "id": "4HQ3msvfiw2I",
        "colab": {
          "base_uri": "https://localhost:8080/",
          "height": 512
        },
        "outputId": "cc0e8d79-31c8-4049-e77a-5a0e08871da0",
        "pycharm": {
          "name": "#%%\n"
        },
        "trusted": true
      },
      "execution_count": 25,
      "outputs": [
        {
          "output_type": "display_data",
          "data": {
            "text/plain": [
              "<Figure size 1000x600 with 2 Axes>"
            ],
            "image/png": "[encoded data removed]"
          },
          "metadata": {}
        }
      ]
    },
    {
      "cell_type": "markdown",
      "source": [
        "## U-Matrix"
      ],
      "metadata": {
        "id": "f8zWNs1Qiw2H",
        "pycharm": {
          "name": "#%% md\n"
        }
      }
    },
    {
      "cell_type": "code",
      "source": [
        "title = 'U-Matrix'\n",
        "fig, ax = plt.subplots(figsize=(10, 6))\n",
        "plt.imshow(final_u_matrix, cmap='Blues')\n",
        "ax.set_xticks(np.arange(num_cols))\n",
        "ax.set_yticks(np.arange(num_rows))\n",
        "ax.set_xticklabels(np.arange(1, num_cols + 1))\n",
        "ax.set_yticklabels(np.arange(1, num_rows + 1))\n",
        "plt.setp(ax.get_xticklabels(), rotation=45, ha=\"right\", rotation_mode=\"anchor\")\n",
        "\n",
        "for i in range(num_rows):\n",
        "    for j in range(num_cols):\n",
        "        text = ax.text(j, i, '{:.2f}'.format(final_u_matrix[i][j]), ha=\"center\", va=\"center\", color=\"black\")\n",
        "\n",
        "plt.colorbar()\n",
        "plt.title(title)\n",
        "plt.show()\n"
      ],
      "metadata": {
        "colab": {
          "base_uri": "https://localhost:8080/",
          "height": 499
        },
        "id": "LXSHBu4xil2s",
        "outputId": "be5f2f9f-bff5-4c86-8a72-98a524c0fcfc",
        "pycharm": {
          "name": "#%%\n"
        },
        "trusted": true
      },
      "execution_count": 26,
      "outputs": [
        {
          "output_type": "display_data",
          "data": {
            "text/plain": [
              "<Figure size 1000x600 with 2 Axes>"
            ],
            "image/png": "[encoded data removed]"
          },
          "metadata": {}
        }
      ]
    },
    {
      "cell_type": "markdown",
      "source": [
        "## dispersion map"
      ],
      "metadata": {
        "id": "tAR1CdRBjegT",
        "pycharm": {
          "name": "#%% md\n"
        }
      }
    },
    {
      "cell_type": "code",
      "source": [
        "fig, ax = plt.subplots(figsize=(10, 6))\n",
        "im = ax.imshow(final_label_dispersion, cmap='Blues')\n",
        "ax.set_xticks(np.arange(num_cols))\n",
        "ax.set_yticks(np.arange(num_rows))\n",
        "ax.set_xticklabels(np.arange(1, num_cols + 1))\n",
        "ax.set_yticklabels(np.arange(1, num_rows + 1))\n",
        "plt.setp(ax.get_xticklabels(), rotation=45, ha=\"right\",\n",
        "         rotation_mode=\"anchor\")\n",
        "\n",
        "for i in range(num_rows):\n",
        "    for j in range(num_cols):\n",
        "        text = ax.text(j, i, '{:.2f}'.format(final_label_dispersion[i][j]),\n",
        "                       ha=\"center\", va=\"center\", color=\"black\")\n",
        "\n",
        "plt.title('Label Dispersion Map')\n",
        "plt.colorbar(im)\n",
        "plt.show()"
      ],
      "metadata": {
        "id": "dO-Uld8rjCZd",
        "colab": {
          "base_uri": "https://localhost:8080/",
          "height": 499
        },
        "outputId": "95762683-ef8b-46a0-cfca-727d501178fd",
        "pycharm": {
          "name": "#%%\n"
        },
        "trusted": true
      },
      "execution_count": 27,
      "outputs": [
        {
          "output_type": "display_data",
          "data": {
            "text/plain": [
              "<Figure size 1000x600 with 2 Axes>"
            ],
            "image/png": "[encoded data removed]"
          },
          "metadata": {}
        }
      ]
    },
    {
      "cell_type": "code",
      "source": [
        "figure_size = (12, 10)\n",
        "num_figures = num_rows * num_cols\n",
        "num_cols_per_row = int(num_figures ** 0.5)  # Number of columns per row\n",
        "num_rows_per_col = (num_figures + num_cols_per_row - 1) // num_cols_per_row  # Number of rows per column\n",
        "\n",
        "fig, axes = plt.subplots(num_rows_per_col, num_cols_per_row, figsize=figure_size)\n",
        "fig.subplots_adjust(hspace=0.5)  # Adjust the vertical spacing between subplots\n",
        "\n",
        "for k in range(num_figures):\n",
        "    i = k // num_cols_per_row\n",
        "    j = k % num_cols_per_row\n",
        "\n",
        "    x = k // num_cols\n",
        "    y = k % num_cols\n",
        "\n",
        "    z = final_bmu_labels[x][y]  # Convert y to a list or iterable\n",
        "    ax = axes[i, j]  # Get the corresponding axis\n",
        "    ax.hist(z, bins=11)\n",
        "    ax.set_title(f' [{i}, {j}] label: {final_som_label[x][y]}')\n",
        "\n",
        "# Hide empty subplots if num_figures is not a perfect square\n",
        "for k in range(num_figures, num_rows_per_col * num_cols_per_row):\n",
        "    axes[k // num_cols_per_row, k % num_cols_per_row].axis('off')\n",
        "\n",
        "plt.tight_layout()  # Adjust spacing between subplots\n",
        "plt.show()"
      ],
      "metadata": {
        "pycharm": {
          "name": "#%%\n"
        },
        "trusted": true,
        "colab": {
          "base_uri": "https://localhost:8080/",
          "height": 1000
        },
        "id": "6gwf1PVvaJt1",
        "outputId": "7926f500-859a-4c05-ccae-06e348f569ba"
      },
      "execution_count": 28,
      "outputs": [
        {
          "output_type": "display_data",
          "data": {
            "text/plain": [
              "<Figure size 1200x1000 with 12 Axes>"
            ],
            "image/png": "[encoded data removed]"
          },
          "metadata": {}
        }
      ]
    },
    {
      "cell_type": "code",
      "source": [
        "# figure_size = (10, 8)\n",
        "# for i in range(num_rows):\n",
        "#     for j in range(num_cols):\n",
        "#         y = final_bmu_labels[i][j]  # Convert y to a list or iterable\n",
        "#         print(final_som_label[i][j])\n",
        "#         #         colors = ['green' if final_som_label[i][j] in y else 'blue' for k in y]\n",
        "#         plt.figure(figsize=figure_size)\n",
        "#         plt.hist(y, bins=11)\n",
        "#         plt.title(f'labels for neuron [{i}, {j}] selcted label: {final_som_label[i][j]}')\n",
        "#         plt.show()\n"
      ],
      "metadata": {
        "id": "i317bNgTdHpV",
        "pycharm": {
          "name": "#%%\n"
        },
        "trusted": true
      },
      "execution_count": 29,
      "outputs": []
    },
    {
      "cell_type": "code",
      "source": [
        "# batch_size= 1\n",
        "# train_data = datasets.CIFAR10('data', train=True,\n",
        "#                               download=True, transform=transform)\n",
        "# som_init_dataloader = DataLoader(train_data, batch_size=batch_size,shuffle=True )\n",
        "# num_features = 512\n",
        "\n",
        "# def initial_som():\n",
        "\n",
        "#   unique_labels = list(set(train_data.targets))\n",
        "#   random.shuffle(unique_labels)\n",
        "#   selected_samples = []\n",
        "#   selected_labels = []\n",
        "\n",
        "#   # Iterate over the train_dataloader until we have selected enough samples\n",
        "#   for x_train, y_train in som_init_dataloader:\n",
        "#       x_train, y_train = x_train.to(device), y_train.to(device)\n",
        "#       feature = feature_extractor(x_train).cpu().numpy()\n",
        "\n",
        "\n",
        "#       # Check if the label is one of the unique labels and has not been selected already\n",
        "#       if y_train[0] not in [label for label in selected_labels]:\n",
        "#         selected_labels.append(y_train[0])\n",
        "#         selected_samples.append(feature[0])\n",
        "\n",
        "#       # Break the outer loop if we have collected enough samples\n",
        "#       if len(selected_samples) == num_rows * num_cols:\n",
        "#           break\n",
        "#   print(selected_labels)\n",
        "\n",
        "\n",
        "#   # Initialize SOM with random values\n",
        "#   np.random.seed(40)\n",
        "#   som = np.random.random_sample(size=(num_rows, num_cols, num_features)) # map construction\n",
        "\n",
        "#   i =0\n",
        "#   for row in range(num_rows):\n",
        "#     for col in range(num_cols):\n",
        "#       if not is_2d_10_neuron:\n",
        "#         som[row][col] = selected_samples[i]\n",
        "#         i+=1\n",
        "#       else:\n",
        "#         if (row == 3 and col == 0) or (row == 3 and col == 2):\n",
        "#           som[row][col] = 10e9\n",
        "#         else:\n",
        "#           som[row][col] = selected_samples[i]\n",
        "#           i+=1\n",
        "#         som[3][0] = 10e9\n",
        "#         som[3][2] = 10e9\n",
        "#   return som\n",
        "\n",
        "\n",
        "# som = initial_som()\n",
        "# som = torch.from_numpy(som).to(device)"
      ],
      "metadata": {
        "id": "NcICTu47il2u",
        "pycharm": {
          "name": "#%%\n"
        },
        "trusted": true
      },
      "execution_count": 30,
      "outputs": []
    }
  ]
}