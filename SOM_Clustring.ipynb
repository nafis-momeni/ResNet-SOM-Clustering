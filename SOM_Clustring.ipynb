{
 "cells": [
  {
   "cell_type": "code",
   "execution_count": null,
   "metadata": {
    "pycharm": {
     "name": "#%%\n",
     "is_executing": true
    }
   },
   "outputs": [],
   "source": [
    "import numpy as np\n",
    "\n",
    "import torch\n",
    "import torch.nn as nn\n",
    "from torchvision import datasets\n",
    "import torchvision.transforms as transforms\n",
    "from torchvision.models import resnet34\n",
    "from torch.utils.data import DataLoader\n",
    "\n",
    "from sklearn.metrics import confusion_matrix, f1_score\n",
    "from tqdm import tqdm\n",
    "\n",
    "from numpy.ma.core import ceil\n",
    "from scipy.spatial import distance #distance calculation\n",
    "from sklearn.preprocessing import MinMaxScaler #normalisation\n",
    "from sklearn.metrics import accuracy_score #scoring\n",
    "import matplotlib.pyplot as plt\n",
    "from matplotlib import colors"
   ]
  },
  {
   "cell_type": "code",
   "execution_count": null,
   "metadata": {
    "pycharm": {
     "name": "#%%\n"
    }
   },
   "outputs": [],
   "source": [
    "transform = transforms.Compose([\n",
    "    transforms.Resize((128, 128)), # Resize to 224x224 (height x width)\n",
    "    transforms.ToTensor(),\n",
    "    transforms.Normalize(mean=[0.485, 0.456, 0.406],\n",
    "                          std=[0.229, 0.224, 0.225])\n",
    "])"
   ]
  },
  {
   "cell_type": "code",
   "execution_count": null,
   "metadata": {
    "pycharm": {
     "name": "#%%\n"
    }
   },
   "outputs": [],
   "source": [
    "# loading the train data\n",
    "batch_size = 100\n",
    "#drop_last=True\n",
    "train_data = datasets.CIFAR10('data', train=True,\n",
    "                              download=True, transform=transform)\n",
    "train_dataloader = DataLoader(train_data, batch_size=batch_size,shuffle=True )\n",
    "\n",
    "#loading the test data\n",
    "test_data = datasets.CIFAR10('data', train=False,\n",
    "                             download=True, transform=transform)\n",
    "test_dataloader = DataLoader(test_data,batch_size=batch_size, shuffle=True)"
   ]
  },
  {
   "cell_type": "code",
   "execution_count": null,
   "metadata": {
    "pycharm": {
     "name": "#%%\n"
    }
   },
   "outputs": [],
   "source": [
    "device = torch.device(\"cuda\" if torch.cuda.is_available() else \"cpu\")\n",
    "print(device)"
   ]
  },
  {
   "attachments": {},
   "cell_type": "markdown",
   "metadata": {
    "pycharm": {
     "name": "#%% md\n"
    }
   },
   "source": [
    "## Feature Extractor"
   ]
  },
  {
   "cell_type": "code",
   "execution_count": null,
   "metadata": {
    "pycharm": {
     "name": "#%%\n"
    }
   },
   "outputs": [],
   "source": [
    "feature_extractor = resnet34(pretrained=True)\n",
    "num_features = feature_extractor.fc.in_features\n",
    "\n",
    "for param in feature_extractor.parameters():\n",
    "    param.requires_grad = False\n",
    "\n",
    "feature_extractor.fc = nn.Identity()\n",
    "feature_extractor.to(device)"
   ]
  },
  {
   "attachments": {},
   "cell_type": "markdown",
   "metadata": {
    "pycharm": {
     "name": "#%% md\n"
    }
   },
   "source": [
    "## Helper Functions"
   ]
  },
  {
   "cell_type": "code",
   "execution_count": null,
   "metadata": {
    "pycharm": {
     "name": "#%%\n"
    }
   },
   "outputs": [],
   "source": [
    "\n",
    "# Manhattan distance\n",
    "def manhattan_distance(x, y):\n",
    "  return distance.cityblock(x,y)\n",
    "\n",
    "# Euclidean distance\n",
    "def euclidean_distance(x, y):\n",
    "    return torch.sqrt(torch.sum((x - y) ** 2, dim=-1))\n",
    "\n",
    "\n",
    "# Best Matching Unit search\n",
    "def bmu_search(data, som, num_rows, num_cols):\n",
    "  winner = [0,0]\n",
    "  # som = som.to(device)\n",
    "  # data = data.to(device)\n",
    "  shortest_distance = 10e7 \n",
    "  for row in range(num_rows):\n",
    "    for col in range(num_cols):\n",
    "      if som[row][col] != None:\n",
    "        \n",
    "        distance = euclidean_distance(som[row][col], data)\n",
    "        if distance < shortest_distance: \n",
    "          shortest_distance = distance\n",
    "          winner = [row,col]\n",
    "  return winner\n",
    "\n",
    "# Learning rate and neighbourhood range calculation\n",
    "def optimizer(step, max_steps, max_learning_rate, max_m_distance):\n",
    "  coefficient = 1.0 - (np.float64(step)/max_steps)\n",
    "  learning_rate = coefficient*max_learning_rate\n",
    "  # neighbourhood_range = ceil(coefficient * max_m_distance)\n",
    "  neighbourhood_range = max_m_distance\n",
    "  return learning_rate, neighbourhood_range\n",
    "\n",
    "#guassian\n",
    "def distance_func(x):\n",
    "  sig = 2 \n",
    "  return np.exp(-np.power(x , 2.) / (2 * np.power(sig, 2.)))\n",
    "  "
   ]
  },
  {
   "attachments": {},
   "cell_type": "markdown",
   "metadata": {
    "pycharm": {
     "name": "#%% md\n"
    }
   },
   "source": [
    "## Hyperparameters"
   ]
  },
  {
   "cell_type": "code",
   "execution_count": null,
   "metadata": {
    "pycharm": {
     "name": "#%%\n"
    }
   },
   "outputs": [],
   "source": [
    "num_rows = 1\n",
    "num_cols = 10\n",
    "max_neighborhood_range = 1\n",
    "max_learning_rate = 0.3\n",
    "max_steps = 20\n",
    "is_2d_10_neuron = False"
   ]
  },
  {
   "attachments": {},
   "cell_type": "markdown",
   "metadata": {
    "pycharm": {
     "name": "#%% md\n"
    }
   },
   "source": [
    "## Initializing SOM"
   ]
  },
  {
   "cell_type": "code",
   "execution_count": null,
   "metadata": {
    "pycharm": {
     "name": "#%%\n"
    }
   },
   "outputs": [],
   "source": [
    "num_features = 512 # numnber of dimensions in the input data\n",
    "\n",
    "if is_2d_10_neuron:\n",
    "  np.random.seed(40)\n",
    "  som = np.random.random_sample(size=(num_rows, num_cols, num_features)) # map construction\n",
    "  som[3][0] = None\n",
    "  som[3][2] = None\n",
    "  som = torch.from_numpy(som).to(device)\n",
    "\n",
    "else:\n",
    "  np.random.seed(40)\n",
    "  som = np.random.random_sample(size=(num_rows, num_cols, num_features)) # map construction\n",
    "  som = torch.from_numpy(som).to(device)\n"
   ]
  },
  {
   "attachments": {},
   "cell_type": "markdown",
   "metadata": {
    "pycharm": {
     "name": "#%% md\n"
    }
   },
   "source": [
    "## Main Function"
   ]
  },
  {
   "cell_type": "code",
   "execution_count": null,
   "metadata": {
    "pycharm": {
     "name": "#%%\n",
     "is_executing": true
    }
   },
   "outputs": [],
   "source": [
    "epochs = 20\n",
    "\n",
    "final_features = torch.zeros(0,dtype=torch.long, device=device)\n",
    "final_y = torch.zeros(0,dtype=torch.long, device=device)\n",
    "\n",
    "for epoch in range(epochs):\n",
    "    for x_train, y_train in tqdm(train_dataloader, desc=f\"Epoch {epoch+1}\", colour=\"blue\"):\n",
    "        x_train, y_train = x_train.to(device), y_train.to(device)\n",
    "        features = feature_extractor(x_train)\n",
    "        # final_features = features\n",
    "        # final_y = y_train\n",
    "        \n",
    "\n",
    "        if epoch == epochs-1:\n",
    "            final_features = torch.cat([final_features] + [torch.tensor(f).view(1, -1) for f in features])\n",
    "            final_y = torch.cat([final_y,y_train.view(-1)])\n",
    "\n",
    "        # start training iterations\n",
    "        for i in range(features.shape[0]):\n",
    "          learning_rate, neighbourhood_range = optimizer(epoch, epochs, max_learning_rate, max_neighborhood_range)\n",
    "          bmu = bmu_search(features[i], som, num_rows, num_cols)\n",
    "          for row in range(num_rows):\n",
    "            for col in range(num_cols):\n",
    "              if som[row][col] != None:\n",
    "                dist = manhattan_distance([row, col], bmu)\n",
    "                if dist <= neighbourhood_range:\n",
    "                  som[row][col] += learning_rate * distance_func(dist) * (features[i].to(device) - som[row][col].to(device)) #update neighbour's weight\n"
   ]
  },
  {
   "attachments": {},
   "cell_type": "markdown",
   "metadata": {
    "pycharm": {
     "name": "#%% md\n"
    }
   },
   "source": [
    "## Collecting Labels"
   ]
  },
  {
   "cell_type": "code",
   "execution_count": null,
   "metadata": {
    "pycharm": {
     "name": "#%%\n"
    }
   },
   "outputs": [],
   "source": [
    "map = np.empty(shape=(num_rows, num_cols), dtype=object)\n",
    "\n",
    "for row in range(num_rows):\n",
    "  for col in range(num_cols):\n",
    "    if som[row][col] != None:\n",
    "      map[row][col] = [] # empty list to store the label\n",
    "\n",
    "\n",
    "label_data = final_y.cpu().numpy()\n",
    "\n",
    "for t in range(final_features.shape[0]):\n",
    "  \n",
    "  bmu = bmu_search(final_features[t].to(device), som.to(device), num_rows, num_cols)\n",
    "  map[bmu[0]][bmu[1]].append(label_data[t]) # label of winning neuron"
   ]
  },
  {
   "attachments": {},
   "cell_type": "markdown",
   "metadata": {
    "pycharm": {
     "name": "#%% md\n"
    }
   },
   "source": [
    "## Construct Label Map"
   ]
  },
  {
   "cell_type": "code",
   "execution_count": null,
   "metadata": {
    "pycharm": {
     "name": "#%%\n"
    }
   },
   "outputs": [],
   "source": [
    "label_map = np.zeros(shape=(num_rows, num_cols),dtype=np.int64)\n",
    "print(label_map)\n",
    "label_dispersion = np.zeros(shape=(num_rows, num_cols), dtype=np.float64)\n",
    "for row in range(num_rows):\n",
    "  for col in range(num_cols):\n",
    "    if som[row][col] != None:\n",
    "      label_list = map[row][col]\n",
    "      if len(label_list)==0:\n",
    "        label = -3\n",
    "        dispersion = 0.0\n",
    "      else:\n",
    "        label = max(label_list, key=label_list.count)\n",
    "        count_label = label_list.count(label)\n",
    "        count_all_labels = len(label_list)\n",
    "        dispersion = count_label / count_all_labels\n",
    "\n",
    "      label_map[row][col] = label\n",
    "      label_dispersion[row][col] = dispersion\n"
   ]
  },
  {
   "attachments": {},
   "cell_type": "markdown",
   "metadata": {
    "pycharm": {
     "name": "#%% md\n"
    }
   },
   "source": [
    "### Feature Map"
   ]
  },
  {
   "cell_type": "code",
   "execution_count": null,
   "metadata": {
    "pycharm": {
     "name": "#%%\n"
    }
   },
   "outputs": [],
   "source": [
    "title = ('Feature Map')\n",
    "fig, ax = plt.subplots(figsize=(10, 6))\n",
    "plt.imshow(label_map, cmap='Blues')\n",
    "ax.set_xticks(np.arange(num_cols))\n",
    "ax.set_yticks(np.arange(num_rows))\n",
    "ax.set_xticklabels(np.arange(1, num_cols+1))\n",
    "ax.set_yticklabels(np.arange(1, num_rows+1))\n",
    "plt.setp(ax.get_xticklabels(), rotation=45, ha=\"right\",\n",
    "         rotation_mode=\"anchor\")\n",
    "\n",
    "for i in range(num_rows):\n",
    "  for j in range(num_cols):\n",
    "    text = ax.text(j, i, '{:.2f}'.format(label_map[i][j]),\n",
    "                   ha=\"center\", va=\"center\", color=\"black\")\n",
    "\n",
    "plt.colorbar()\n",
    "plt.title(title)\n",
    "plt.show()"
   ]
  },
  {
   "attachments": {},
   "cell_type": "markdown",
   "metadata": {
    "pycharm": {
     "name": "#%% md\n"
    }
   },
   "source": [
    "### Dispersion Map"
   ]
  },
  {
   "cell_type": "code",
   "execution_count": null,
   "metadata": {
    "pycharm": {
     "name": "#%%\n"
    }
   },
   "outputs": [],
   "source": [
    "fig, ax = plt.subplots(figsize=(10, 6))\n",
    "im = ax.imshow(label_dispersion, cmap='Blues')\n",
    "ax.set_xticks(np.arange(num_cols))\n",
    "ax.set_yticks(np.arange(num_rows))\n",
    "ax.set_xticklabels(np.arange(1, num_cols+1))\n",
    "ax.set_yticklabels(np.arange(1, num_rows+1))\n",
    "plt.setp(ax.get_xticklabels(), rotation=45, ha=\"right\",\n",
    "         rotation_mode=\"anchor\")\n",
    "\n",
    "for i in range(num_rows):\n",
    "  for j in range(num_cols):\n",
    "    text = ax.text(j, i, '{:.2f}'.format(label_dispersion[i][j]),\n",
    "                   ha=\"center\", va=\"center\", color=\"black\")\n",
    "\n",
    "plt.title('Label Dispersion Map')\n",
    "plt.colorbar(im)\n",
    "plt.show()"
   ]
  },
  {
   "attachments": {},
   "cell_type": "markdown",
   "metadata": {
    "pycharm": {
     "name": "#%% md\n"
    }
   },
   "source": [
    "## Test Data"
   ]
  },
  {
   "cell_type": "code",
   "execution_count": null,
   "metadata": {
    "pycharm": {
     "name": "#%%\n"
    }
   },
   "outputs": [],
   "source": [
    "sum_acc = 0\n",
    "n = 0\n",
    "for x_test, y_test in test_dataloader:\n",
    "  x_test, y_test = x_test.to(device), y_test.to(device)\n",
    "  features = feature_extractor(x_test)\n",
    "\n",
    "  winner_labels = []\n",
    "  print(features.shape)\n",
    "  for t in range(features.shape[0]):\n",
    "    bmu = bmu_search(features[t], som, num_rows, num_cols)\n",
    "    row = bmu[0]\n",
    "    col = bmu[1]\n",
    "    predicted = label_map[row][col]\n",
    "    winner_labels.append(predicted)\n",
    "  acc = accuracy_score(y_test.cpu().numpy(), winner_labels)\n",
    "  sum_acc += acc\n",
    "  n += 1\n",
    "  print(\"Accuracy: \",acc)\n",
    "\n",
    "print(\"Total Accuracy: \", sum_acc /n)"
   ]
  }
 ],
 "metadata": {
  "accelerator": "GPU",
  "colab": {
   "provenance": []
  },
  "gpuClass": "standard",
  "kernelspec": {
   "display_name": "Python 3",
   "name": "python3"
  },
  "language_info": {
   "name": "python"
  }
 },
 "nbformat": 4,
 "nbformat_minor": 0
}